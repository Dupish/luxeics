{
 "cells": [
  {
   "cell_type": "code",
   "execution_count": 49,
   "id": "4ca7257e",
   "metadata": {},
   "outputs": [],
   "source": [
    "\n",
    "import yaml\n",
    "import os\n",
    "\n",
    "from numpy import *\n",
    "import luxeics\n",
    "import h5py\n",
    "\n",
    "from scipy.interpolate import interp2d,RectBivariateSpline\n",
    "\n",
    "import matplotlib.pyplot as plt\n",
    "\n",
    "import luxeics\n",
    "\n",
    "\n",
    "def Photon_density(xoffset,yoffset,X1,X2,baseline,spotsize,sigmaT,W,path):\n",
    "    \n",
    "    \n",
    "    Area=pi*spotsize**2\n",
    "\n",
    "    \n",
    "    selector= sqrt((xoffset+X1)**2+(yoffset+X2)**2) < spotsize\n",
    "\n",
    "\n",
    "#     print ( f'IP-laser spot size: {spotsize:.2f} micron')\n",
    "#     print ( f'baseline          : {baseline/1e6:.2f} metres')\n",
    "#     print ('-'*42)\n",
    "\n",
    "#     print (f'photons in spot')\n",
    "#     print (f'macrophoton weight               : {amax(W):.4g}')\n",
    "    \n",
    "#     print ( 'macrophotons, finite source size :',sum( selector) )\n",
    "    \n",
    "#     print ( 'photon weight, finite source size:',sum(W[selector ] ) )\n",
    "    \n",
    "    \n",
    "    P=sum(W[selector ] )/Area\n",
    "    \n",
    "#     print ( f'Photon density, finite source size:',P)\n",
    "    \n",
    "#     print (' ######################################### '  )\n",
    "#     print ('                           '  )\n",
    "#     plt.figure(figsize=(14,6))\n",
    "\n",
    "    \n",
    "\n",
    "#     ax1=plt.subplot(122,aspect=1)\n",
    "\n",
    "#     # plot(X1+xoffset, X2+yoffset, color='m', marker=',',lw=0);\n",
    "\n",
    "\n",
    "\n",
    "\n",
    "\n",
    "#     plt.scatter(X1+xoffset, X2+yoffset, color='m', marker='.',lw=0,s=W);\n",
    "\n",
    "#     plt.xlim(-2*spotsize,2*spotsize)\n",
    "#     plt.ylim(-2*spotsize,2*spotsize)\n",
    "    \n",
    "#     plt.xlabel(r'$x$ (micron)')\n",
    "#     plt.ylabel(r'$y$ (micron)');\n",
    "#     plt.title(f'Finite source size, Photon density:{round(P,2)} micron^(-2)')\n",
    "\n",
    "    \n",
    "#     ax1.add_patch(plt.Circle((0,0),spotsize,color='C0',fill=False))\n",
    "\n",
    "\n",
    "#     plt.suptitle(f' sigmaT :{sigmaT} micron ; spotsize:{spotsize} micron')\n",
    "#     plt.savefig(f'{path}\\photon_spectrum_at_focus_{sigmaT}_{spotsize}.png',dpi=200)\n",
    "    \n",
    "    return(P)\n",
    "                                      \n",
    "    \n",
    "                                   \n",
    "def run(spotsize,input_filename,path):\n",
    "    \n",
    "\n",
    "    \n",
    "    \n",
    "    with h5py.File(input_filename + '.h5' ,'r') as ff:\n",
    "    #     omega      = ff['final-state/spectrum/omega'][:]/1e9\n",
    "    #     theta      = ff['final-state/spectrum/theta'][:]*1e6\n",
    "    #     spectrum   = ff['final-state/spectrum/spectrum'][:]\n",
    "\n",
    "        K0,K1,K2,K3  = ff['final-state/photon/momentum'][:].T\n",
    "        X0,X1,X2,X3  = ff['final-state/photon/position'][:].T\n",
    "        W            = ff['final-state/photon/weight'  ][:]\n",
    "\n",
    "        P0,P1,P2,P3  = ff['final-state/electron/momentum'][:].T\n",
    "    #     X0,X1,X2,X3  = ff['final-state/photon/position'][:].T\n",
    "    #     We            = ff['final-state/photon/weight'  ][:]\n",
    "    with open( input_filename + '.yml', 'r' ) as stream:\n",
    "        input_dict = yaml.load(stream, Loader=yaml.SafeLoader)\n",
    "\n",
    "        mode             = input_dict['control']['mode']\n",
    "\n",
    "\n",
    "        beam_charge      = float( input_dict['beam']['beam_charge'])\n",
    "        number_electrons = int( beam_charge / 1.60217653e-19)\n",
    "\n",
    "    #     sampling         = input_dict['control']['sampling']\n",
    "        sampling = mode\n",
    "\n",
    "        w0               = float(input_dict['laser']['w0'])\n",
    "        omega0           = float(input_dict['laser']['omega0'])\n",
    "        gamma            = float(input_dict['beam']['gamma'])\n",
    "        Xr               = 4*gamma*omega0/511*10**(-3)\n",
    "        energyspread     = float(input_dict['beam']['energyspread'])\n",
    "        sigmaT   = float(input_dict['beam']['sigmaT'])\n",
    "#     print (f'beam charge                              : {beam_charge*1e12:.24} pC')\n",
    "#     print (f'number of beam electrons                 : {number_electrons:.3e}')\n",
    "#     print ('-'*42)\n",
    "#     print (f'{sampling} sampling:')\n",
    "#     print (f'max  single photon weight                : {amax(W):.4g}')\n",
    "#     print (f'mean single photon weight                : {mean(W):.4g}')\n",
    "#     print (f'total photon weight                      : {sum(W):.4g}')\n",
    "#     print (f'total photon weight per incident electron: {sum(W)/number_electrons:.4g}')\n",
    "#     print (f'total macro photon number                : {len(W)}')\n",
    "#     print ('-'*42)\n",
    "#     print(f' Frequency (Laser) :  {omega0}'  )\n",
    "#     print(f'Recoil Factor:{Xr}')\n",
    "#     print (' ######################################### '  )\n",
    "#     print ('                           '  )\n",
    "    baseline = 7.5e6\n",
    "\n",
    "    thetax=K1/K3\n",
    "    thetay=K2/K3\n",
    "\n",
    "     \n",
    "\n",
    "    xoffset = thetax * baseline\n",
    "    yoffset = thetay * baseline\n",
    "    \n",
    "    Pd=Photon_density(xoffset,yoffset,X1,X2,baseline,spotsize,sigmaT,W,path)\n",
    "    \n",
    "    \n",
    "    E=sum(P0)\n",
    "    \n",
    "    return(Pd,E)"
   ]
  },
  {
   "cell_type": "code",
   "execution_count": 50,
   "id": "2d2d303e",
   "metadata": {
    "scrolled": false
   },
   "outputs": [
    {
     "name": "stdout",
     "output_type": "stream",
     "text": [
      ">>> mode == full\n",
      "[10000000, 10000000, 10000000, 10000000, 10000000, 10000000, 10000000, 10000000, 10000000, 10000000] 100000000 100000000\n",
      " >> number_electrons   = 624150947\n",
      " >> sample_electrons   = 100000000\n",
      " >> electron weight    = 6.242\n",
      " >> MC sampling\n",
      "  > batch 0 : 10000000 macroelectrons\n",
      "   base photon weight : 190.2749255781099\n",
      "   number photons     : 3510\n",
      "   total photon number: 3510\n",
      "  > batch 1 : 10000000 macroelectrons\n"
     ]
    },
    {
     "ename": "KeyboardInterrupt",
     "evalue": "",
     "output_type": "error",
     "traceback": [
      "\u001b[1;31m---------------------------------------------------------------------------\u001b[0m",
      "\u001b[1;31mKeyboardInterrupt\u001b[0m                         Traceback (most recent call last)",
      "\u001b[1;32m<ipython-input-50-b40132c39e9b>\u001b[0m in \u001b[0;36m<module>\u001b[1;34m\u001b[0m\n\u001b[0;32m     60\u001b[0m \u001b[1;33m\u001b[0m\u001b[0m\n\u001b[0;32m     61\u001b[0m \u001b[1;33m\u001b[0m\u001b[0m\n\u001b[1;32m---> 62\u001b[1;33m         \u001b[0mluxeics\u001b[0m\u001b[1;33m.\u001b[0m\u001b[0mmain_program\u001b[0m\u001b[1;33m(\u001b[0m \u001b[1;34mf'{path}\\SigmaT{sigma1}'\u001b[0m\u001b[1;33m+\u001b[0m\u001b[1;34m'.yml'\u001b[0m \u001b[1;33m)\u001b[0m\u001b[1;33m\u001b[0m\u001b[1;33m\u001b[0m\u001b[0m\n\u001b[0m\u001b[0;32m     63\u001b[0m \u001b[1;33m\u001b[0m\u001b[0m\n\u001b[0;32m     64\u001b[0m         \u001b[0mPd\u001b[0m\u001b[1;33m[\u001b[0m\u001b[0mi\u001b[0m\u001b[1;33m,\u001b[0m\u001b[1;36m0\u001b[0m\u001b[1;33m,\u001b[0m\u001b[0mj\u001b[0m\u001b[1;33m]\u001b[0m\u001b[1;33m,\u001b[0m\u001b[0mEnergy\u001b[0m\u001b[1;33m[\u001b[0m\u001b[0mi\u001b[0m\u001b[1;33m,\u001b[0m\u001b[0mj\u001b[0m\u001b[1;33m]\u001b[0m\u001b[1;33m=\u001b[0m\u001b[0mrun\u001b[0m\u001b[1;33m(\u001b[0m\u001b[0mspotsize1\u001b[0m\u001b[1;33m,\u001b[0m\u001b[1;34mf'{path}\\SigmaT{sigma1}'\u001b[0m\u001b[1;33m,\u001b[0m\u001b[0mpath\u001b[0m\u001b[1;33m)\u001b[0m\u001b[1;33m\u001b[0m\u001b[1;33m\u001b[0m\u001b[0m\n",
      "\u001b[1;32m~\\Documents\\GitHub\\luxeics\\luxeics\\collisions.py\u001b[0m in \u001b[0;36mmain_program\u001b[1;34m(input_filename)\u001b[0m\n\u001b[0;32m    101\u001b[0m     \u001b[1;32mif\u001b[0m \u001b[0mmode\u001b[0m\u001b[1;33m==\u001b[0m\u001b[1;34m'full'\u001b[0m\u001b[1;33m:\u001b[0m\u001b[1;33m\u001b[0m\u001b[1;33m\u001b[0m\u001b[0m\n\u001b[0;32m    102\u001b[0m         \u001b[0mprint\u001b[0m \u001b[1;33m(\u001b[0m\u001b[1;34m'>>> mode == full'\u001b[0m\u001b[1;33m)\u001b[0m\u001b[1;33m\u001b[0m\u001b[1;33m\u001b[0m\u001b[0m\n\u001b[1;32m--> 103\u001b[1;33m         \u001b[0mX_photon\u001b[0m\u001b[1;33m,\u001b[0m\u001b[0mK_photon\u001b[0m\u001b[1;33m,\u001b[0m\u001b[0mW_photon\u001b[0m\u001b[1;33m,\u001b[0m\u001b[0mX_electron\u001b[0m\u001b[1;33m,\u001b[0m\u001b[0mP_electron\u001b[0m\u001b[1;33m,\u001b[0m\u001b[0mW_electron\u001b[0m\u001b[1;33m,\u001b[0m\u001b[0mxi_peak\u001b[0m \u001b[1;33m=\u001b[0m \u001b[0mmain_program_full\u001b[0m\u001b[1;33m(\u001b[0m \u001b[0minput_filename\u001b[0m \u001b[1;33m)\u001b[0m\u001b[1;33m\u001b[0m\u001b[1;33m\u001b[0m\u001b[0m\n\u001b[0m\u001b[0;32m    104\u001b[0m \u001b[1;33m\u001b[0m\u001b[0m\n\u001b[0;32m    105\u001b[0m     \u001b[1;31m# elif mode=='simple':\u001b[0m\u001b[1;33m\u001b[0m\u001b[1;33m\u001b[0m\u001b[1;33m\u001b[0m\u001b[0m\n",
      "\u001b[1;32m~\\Documents\\GitHub\\luxeics\\luxeics\\collisions.py\u001b[0m in \u001b[0;36mmain_program_full\u001b[1;34m(input_filename)\u001b[0m\n\u001b[0;32m    276\u001b[0m \u001b[1;33m\u001b[0m\u001b[0m\n\u001b[0;32m    277\u001b[0m         \u001b[0mpz0\u001b[0m          \u001b[1;33m=\u001b[0m \u001b[0mgamma\u001b[0m\u001b[1;33m*\u001b[0m\u001b[0mbeta\u001b[0m\u001b[1;33m*\u001b[0m\u001b[0mcos\u001b[0m\u001b[1;33m(\u001b[0m\u001b[0mtheta_x\u001b[0m\u001b[1;33m)\u001b[0m\u001b[1;33m*\u001b[0m\u001b[0mcos\u001b[0m\u001b[1;33m(\u001b[0m\u001b[0mtheta_y\u001b[0m\u001b[1;33m)\u001b[0m\u001b[1;33m\u001b[0m\u001b[1;33m\u001b[0m\u001b[0m\n\u001b[1;32m--> 278\u001b[1;33m         \u001b[0mpx0\u001b[0m          \u001b[1;33m=\u001b[0m \u001b[0mgamma\u001b[0m\u001b[1;33m*\u001b[0m\u001b[0mbeta\u001b[0m\u001b[1;33m*\u001b[0m\u001b[0msin\u001b[0m\u001b[1;33m(\u001b[0m\u001b[0mtheta_x\u001b[0m\u001b[1;33m)\u001b[0m\u001b[1;33m\u001b[0m\u001b[1;33m\u001b[0m\u001b[0m\n\u001b[0m\u001b[0;32m    279\u001b[0m         \u001b[0mpy0\u001b[0m          \u001b[1;33m=\u001b[0m \u001b[0mgamma\u001b[0m\u001b[1;33m*\u001b[0m\u001b[0mbeta\u001b[0m\u001b[1;33m*\u001b[0m\u001b[0msin\u001b[0m\u001b[1;33m(\u001b[0m\u001b[0mtheta_y\u001b[0m\u001b[1;33m)\u001b[0m\u001b[1;33m\u001b[0m\u001b[1;33m\u001b[0m\u001b[0m\n\u001b[0;32m    280\u001b[0m         \u001b[0mpt0\u001b[0m          \u001b[1;33m=\u001b[0m \u001b[0msqrt\u001b[0m\u001b[1;33m(\u001b[0m \u001b[1;36m1\u001b[0m \u001b[1;33m+\u001b[0m \u001b[0mpx0\u001b[0m\u001b[1;33m**\u001b[0m\u001b[1;36m2\u001b[0m \u001b[1;33m+\u001b[0m \u001b[0mpy0\u001b[0m\u001b[1;33m**\u001b[0m\u001b[1;36m2\u001b[0m \u001b[1;33m+\u001b[0m \u001b[0mpz0\u001b[0m\u001b[1;33m**\u001b[0m\u001b[1;36m2\u001b[0m \u001b[1;33m)\u001b[0m\u001b[1;33m\u001b[0m\u001b[1;33m\u001b[0m\u001b[0m\n",
      "\u001b[1;31mKeyboardInterrupt\u001b[0m: "
     ]
    }
   ],
   "source": [
    "\n",
    "\n",
    "input_filename = \"New\"\n",
    "n=10\n",
    "sigma=zeros(n)\n",
    "r=10 #Number of runs\n",
    "Pd = ones((n,2,r))\n",
    "spotsize1=3\n",
    "spotsize2=10\n",
    "directory = \"Energy_Conserved_Run1(mit_error)\"\n",
    "parent_dir = f\"{os. getcwd()}\\Photon_Density\"\n",
    "path = os.path.join(parent_dir, directory)\n",
    "os.mkdir(path)\n",
    "\n",
    "\n",
    "\n",
    "'''\n",
    "\n",
    "Energy= I0 * pi* (w0 **2)* T_fwhm\n",
    "I0= (omega*m*a0)**2/(8*pi*alpha)\n",
    "\n",
    "a0*w0= constant\n",
    "\n",
    "'''\n",
    "Energy = zeros((n,r))\n",
    "with open( input_filename+'.yml', 'r' ) as stream:\n",
    "            input_dict = yaml.load(stream, Loader=yaml.SafeLoader)\n",
    "            w0=input_dict['laser']['w0']\n",
    "            a0=input_dict['laser']['a0']\n",
    "            constant=w0*a0  # from energy Conservation \n",
    "\n",
    "            \n",
    "            \n",
    "                    \n",
    "for j in range(r):\n",
    "    for i in range(n):\n",
    "        with open( input_filename+'.yml', 'r' ) as stream:\n",
    "            input_dict = yaml.load(stream, Loader=yaml.SafeLoader)\n",
    "            sigma1= 5+i*5\n",
    "\n",
    "            input_dict['beam']['sigmaT']=sigma1\n",
    "            input_dict['control']['name']=f'{path}\\SigmaT{sigma1}'\n",
    "            input_dict['laser']['w0']=sigma1\n",
    "            input_dict['laser']['a0']=constant/sigma1\n",
    "            ###Comment the previous line to just to do a parameter run in sigmaT\n",
    "            input_filename1 = f'SigmaT{sigma1}'\n",
    "\n",
    "\n",
    "        with open(      f'{path}\\SigmaT{sigma1}'+'.yml', 'w') as file:\n",
    "            documents = yaml.dump(input_dict, file)\n",
    "\n",
    "        # import matplotlib.pyplot as plt\n",
    "\n",
    "        sigma[i]=sigma1\n",
    "\n",
    "\n",
    "        with open( f'{path}\\SigmaT{sigma1}'+'.yml', 'r' ) as stream:\n",
    "            input_dict = yaml.load(stream, Loader=yaml.SafeLoader)\n",
    "\n",
    "        #print (input_dict)\n",
    "\n",
    "\n",
    "\n",
    "        luxeics.main_program( f'{path}\\SigmaT{sigma1}'+'.yml' )\n",
    "\n",
    "        Pd[i,0,j],Energy[i,j]=run(spotsize1,f'{path}\\SigmaT{sigma1}',path)\n",
    "        Pd[i,1,j],Energy[i,j]=run(spotsize2,f'{path}\\SigmaT{sigma1}',path)\n"
   ]
  },
  {
   "cell_type": "code",
   "execution_count": null,
   "id": "831387ec",
   "metadata": {},
   "outputs": [],
   "source": [
    "print(sigma)\n",
    "print(Energy*10**(-9))"
   ]
  },
  {
   "cell_type": "code",
   "execution_count": null,
   "id": "ae544387",
   "metadata": {
    "scrolled": true
   },
   "outputs": [],
   "source": [
    "# plt.plot(sigma,Pd[:,0],label=f'{spotsize1} microns')\n",
    "# plt.plot(sigma,Pd[:,1],label=f'{spotsize2} microns')\n",
    "# plt.xlabel('SigmaT [microns]')\n",
    "# plt.ylabel(r'Photon Density [microns^(-2)]')\n",
    "# plt.legend()\n",
    "# plt.title('Zero Source Size')\n",
    "# plt.savefig(f'{path}\\PhotonDensity_vs_sigmaT_Zero.png',dpi=200)"
   ]
  },
  {
   "cell_type": "code",
   "execution_count": null,
   "id": "03d536c3",
   "metadata": {
    "scrolled": true
   },
   "outputs": [],
   "source": [
    "# plt.plot(sigma,Pd[:,0],label=f'{spotsize1} microns')\n",
    "# plt.plot(sigma,Pd[:,1],label=f'{spotsize2} microns')\n",
    "# plt.xlabel('SigmaT [microns]')\n",
    "# plt.ylabel('Photon Density [microns^(-2)]')\n",
    "# plt.title('Finite Source Size')\n",
    "# plt.legend()\n",
    "# plt.savefig(f'{path}\\PhotonDensity_vs_sigmaT_Finite.png',dpi=200)"
   ]
  },
  {
   "cell_type": "code",
   "execution_count": 45,
   "id": "1dd7ab7b",
   "metadata": {},
   "outputs": [],
   "source": [
    "import numpy as np\n",
    "Pd_Mean=np.ones((n,2))\n",
    "\n",
    "Pd_STD=np.ones((n,2))\n",
    "for i in range(n):\n",
    "\n",
    "    Pd_Mean[i,0]=np.mean(Pd[i,0,:])\n",
    "    Pd_STD[i,0]=np.std(Pd[i,0,:])\n",
    "    Pd_Mean[i,1]=np.mean(Pd[i,1,:])\n",
    "    Pd_STD[i,1]=np.std(Pd[i,1,:])"
   ]
  },
  {
   "cell_type": "code",
   "execution_count": 46,
   "id": "c8333e37",
   "metadata": {},
   "outputs": [
    {
     "name": "stdout",
     "output_type": "stream",
     "text": [
      "(10, 2, 10)\n"
     ]
    }
   ],
   "source": [
    "print(np.shape(Pd))"
   ]
  },
  {
   "cell_type": "code",
   "execution_count": 47,
   "id": "d18c9cb9",
   "metadata": {},
   "outputs": [
    {
     "data": {
      "image/png": "[encoded data removed]",
      "text/plain": [
       "<Figure size 432x288 with 1 Axes>"
      ]
     },
     "metadata": {
      "needs_background": "light"
     },
     "output_type": "display_data"
    }
   ],
   "source": [
    "plt.plot(sigma,Pd_Mean[:,0])\n",
    "plt.errorbar(sigma,Pd_Mean[:,0],Pd_STD[:,0], linestyle='None', marker='.',label='St. Deviation')\n",
    "plt.xlabel('sigmaT=W0 [microns]')\n",
    "plt.ylabel('Photon Density [microns^(-2)]')\n",
    "plt.title(f'Spotsize:{spotsize1} microns')\n",
    "plt.legend()\n",
    "plt.savefig(f'{path}\\PhotonDensity_vs_sigmaT_Spotsize{spotsize1}_Finite.png',dpi=200)"
   ]
  },
  {
   "cell_type": "code",
   "execution_count": 48,
   "id": "40b1ef26",
   "metadata": {},
   "outputs": [
    {
     "data": {
      "image/png": "[encoded data removed]",
      "text/plain": [
       "<Figure size 432x288 with 1 Axes>"
      ]
     },
     "metadata": {
      "needs_background": "light"
     },
     "output_type": "display_data"
    }
   ],
   "source": [
    "plt.plot(sigma,Pd_Mean[:,1])\n",
    "plt.errorbar(sigma,Pd_Mean[:,1],Pd_STD[:,1], linestyle='None', marker='.',label='St. Deviation')\n",
    "plt.xlabel('sigmaT=W0 [microns]')\n",
    "plt.ylabel('Photon Density [microns^(-2)]')\n",
    "plt.title(f'Spotsize:{spotsize2} microns')\n",
    "plt.legend()\n",
    "plt.savefig(f'{path}\\PhotonDensity_vs_sigmaT_Spotsize{spotsize2}_Finite.png',dpi=200)"
   ]
  },
  {
   "cell_type": "code",
   "execution_count": null,
   "id": "1f90745b",
   "metadata": {},
   "outputs": [],
   "source": [
    "# import pandas as pd\n",
    "# import numpy as np\n",
    "# import os\n",
    "# Data=np.zeros((n,3))\n",
    "# Data[:,0]=sigma\n",
    "# Data[:,1]=Pd[:,0]\n",
    "# Data[:,2]=Pd[:,1]\n",
    "# df=pd.DataFrame(Data)\n",
    "\n",
    "# List=[\"Sigma\",\"3 microns              \",\"10 microns\"]\n",
    "# df.to_csv(f'{path}\\Photon_Density.txt',header=List , index=None, sep=\"\\t\", mode='w')\n",
    "\n",
    "\n",
    "\n",
    "# print(df)"
   ]
  },
  {
   "cell_type": "code",
   "execution_count": null,
   "id": "17971b4d",
   "metadata": {},
   "outputs": [],
   "source": [
    "'''\n",
    "Saving the Data\n",
    "'''\n",
    "\n",
    "\n",
    "import pandas as pd\n",
    "import numpy as np\n",
    "import os\n",
    "Data=np.zeros((n,r+1))\n",
    "Data[:,0]=sigma\n",
    "Data[:,1:r+1]=Pd[:,0,0:r]\n",
    "df=pd.DataFrame(Data)\n",
    "\n",
    "List=[\"SigmaT+W0\",\"Photon Density \",\"Photon Density \",\"Photon Density \",\"Photon Density \",\"Photon Density \",\"Photon Density \",\"Photon Density \",\"Photon Density \",\"Photon Density \",\"Photon Density \"]\n",
    "df.to_csv(f'{path}\\Photon_Density_Spotsize{spotsize1}.txt',header=List , index=None, sep=\"\\t\", mode='w')\n",
    "\n",
    "\n",
    "\n",
    "print(df)"
   ]
  },
  {
   "cell_type": "code",
   "execution_count": null,
   "id": "28cbef16",
   "metadata": {},
   "outputs": [],
   "source": [
    "import pandas as pd\n",
    "import numpy as np\n",
    "import os\n",
    "Data=np.zeros((n,r+1))\n",
    "Data[:,0]=sigma\n",
    "Data[:,1:r+1]=Pd[:,1,0:r]\n",
    "df=pd.DataFrame(Data)\n",
    "\n",
    "List=[\"SigmaT+W0\",\"Photon Density \",\"Photon Density \",\"Photon Density \",\"Photon Density \",\"Photon Density \",\"Photon Density \",\"Photon Density \",\"Photon Density \",\"Photon Density \",\"Photon Density \"]\n",
    "df.to_csv(f'{path}\\Photon_Density_Spotsize{spotsize2}.txt',header=List , index=None, sep=\"\\t\", mode='w')\n",
    "\n",
    "\n",
    "\n",
    "print(df)"
   ]
  },
  {
   "cell_type": "code",
   "execution_count": null,
   "id": "f15cb9ec",
   "metadata": {},
   "outputs": [],
   "source": [
    "'''\n",
    "Reading the text files\n",
    "The final array p does not contain the Header files\n",
    "\n",
    "'''\n",
    "print(pd.read_csv(f'{path}\\Photon_Density_Spotsize{spotsize2}.txt',header=None , sep=\"\\t\"))\n",
    "\n",
    "r=pd.read_csv(f'{path}\\Photon_Density_Spotsize{spotsize2}.txt',header=0 , sep=\"\\t\")\n",
    "p=pd.DataFrame.to_numpy(r)\n"
   ]
  },
  {
   "cell_type": "code",
   "execution_count": null,
   "id": "c15b64eb",
   "metadata": {},
   "outputs": [],
   "source": [
    "\n"
   ]
  },
  {
   "cell_type": "code",
   "execution_count": null,
   "id": "fb26bf24",
   "metadata": {},
   "outputs": [],
   "source": []
  },
  {
   "cell_type": "code",
   "execution_count": null,
   "id": "9c29e70b",
   "metadata": {},
   "outputs": [],
   "source": []
  }
 ],
 "metadata": {
  "kernelspec": {
   "display_name": "Python 3",
   "language": "python",
   "name": "python3"
  },
  "language_info": {
   "codemirror_mode": {
    "name": "ipython",
    "version": 3
   },
   "file_extension": ".py",
   "mimetype": "text/x-python",
   "name": "python",
   "nbconvert_exporter": "python",
   "pygments_lexer": "ipython3",
   "version": "3.8.8"
  }
 },
 "nbformat": 4,
 "nbformat_minor": 5
}
