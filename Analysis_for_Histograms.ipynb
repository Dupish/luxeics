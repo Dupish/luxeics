{
 "cells": [
  {
   "cell_type": "code",
   "execution_count": 1,
   "id": "754f7910",
   "metadata": {},
   "outputs": [],
   "source": [
    "\n",
    "import yaml\n",
    "import os\n",
    "\n",
    "from numpy import *\n",
    "import luxeics\n",
    "import h5py\n",
    "\n",
    "from scipy.interpolate import interp2d,RectBivariateSpline\n",
    "\n",
    "import matplotlib.pyplot as plt\n",
    "\n",
    "import luxeics\n",
    "\n",
    "def sortSecond(val):\n",
    "    return val[1] \n",
    "def Photon_density(xoffset,yoffset,X1,X2,spotsize,sigmaT,W,path,w0,a0,K0):\n",
    "    \n",
    "    \n",
    "    Area = pi  * spotsize ** 2\n",
    "    selector = sqrt( ( xoffset + X1 ) ** 2 + ( yoffset + X2 ) ** 2) < spotsize\n",
    "    Photon_Density = sum ( W [ selector ]  ) /  Area\n",
    "    \n",
    "    \n",
    "    \n",
    "    \n",
    "    \n",
    "    \n",
    "    \n",
    "    K_inside_Spot=K0[selector]\n",
    "    W_inside_Spot=W[selector]\n",
    "    \n",
    "    \n",
    "    \n",
    "    \n",
    "#     plt.figure(figsize=(14,6))\n",
    "\n",
    "    \n",
    "\n",
    "#     ax1=plt.subplot(122,aspect=1)\n",
    "#     plt.scatter(X1+xoffset, X2+yoffset, color='m', marker='.',lw=0);\n",
    "\n",
    "#     plt.xlim(-2*spotsize,2*spotsize)\n",
    "#     plt.ylim(-2*spotsize,2*spotsize)\n",
    "\n",
    "#     plt.xlabel(r'$x$ (micron)')\n",
    "#     plt.ylabel(r'$y$ (micron)');\n",
    "#     plt.title(f'Finite source size, Photon density:{round(Photon_Density,2)} micron^(-2)')\n",
    "\n",
    "\n",
    "#     ax1.add_patch(plt.Circle((0,0),spotsize,color='C0',fill=False))\n",
    "\n",
    "\n",
    "#     plt.suptitle(f' sigmaT :{sigmaT} microns W0 : {w0} microns a0:{round(a0)} microns, spotsize:{spotsize} micron')\n",
    "#     plt.savefig(f'{path}\\photon_spectrum_at_focus_{sigmaT}_{spotsize}.png',dpi=200)\n",
    "\n",
    "    plt.figure(figsize=(10,6))\n",
    "\n",
    "    plt.subplot(111)\n",
    "    \n",
    "    Bins=plt.hist(K0[selector]/1e9,bins=linspace(6,9,100),weights=W[selector],alpha=1  ,fc='C0',label=f'SigmaT_{sigmaT}_Spotsize_{spotsize}')[0:2]\n",
    "     \n",
    "    plt.xlim(6,9)\n",
    "    plt.legend()\n",
    "    plt.xlabel('ICS photon energy (GeV)')\n",
    "    plt.ylabel('photon spectrum at IP')\n",
    "    \n",
    "    plt.savefig(f'{path}\\photon_spectrum_at_focus_SigmaT_{sigmaT}_Spotsize_{spotsize}.png',dpi=200)\n",
    "    \n",
    "    \n",
    "\n",
    "    return ( Photon_Density ,Bins)\n",
    "                                      \n",
    "    \n",
    "                                   \n",
    "def run(spotsize,input_filename,path):\n",
    "    \n",
    "\n",
    "    \n",
    "    \n",
    "    with h5py.File(f'{path}{os.sep}H_Five{os.sep}'+input_filename+'.h5'  ,'r') as ff:\n",
    "    #     omega      = ff['final-state/spectrum/omega'][:]/1e9\n",
    "    #     theta      = ff['final-state/spectrum/theta'][:]*1e6\n",
    "    #     spectrum   = ff['final-state/spectrum/spectrum'][:]\n",
    "\n",
    "        K0,K1,K2,K3  = ff['final-state/photon/momentum'][:].T\n",
    "        X0,X1,X2,X3  = ff['final-state/photon/position'][:].T\n",
    "        W            = ff['final-state/photon/weight'  ][:]\n",
    "\n",
    "        #P0,P1,P2,P3  = ff['final-state/electron/momentum'][:].T\n",
    "    #     X0,X1,X2,X3  = ff['final-state/photon/position'][:].T\n",
    "    #     We            = ff['final-state/photon/weight'  ][:]\n",
    "    with open( f'{path}{os.sep}Yml_Files{os.sep}'+input_filename+'.yml' , 'r' ) as stream:\n",
    "        input_dict = yaml.load(stream, Loader=yaml.SafeLoader)\n",
    "\n",
    "#         mode             = input_dict['control']['mode']\n",
    "\n",
    "\n",
    "#         beam_charge      = float( input_dict['beam']['beam_charge'])\n",
    "#         number_electrons = int( beam_charge / 1.60217653e-19)\n",
    "\n",
    "    #     sampling         = input_dict['control']['sampling']\n",
    "#         sampling = mode\n",
    "        a0               = float(input_dict['laser']['a0'])        \n",
    "        \n",
    "        \n",
    "        w0               = float(input_dict['laser']['w0'])\n",
    "#         omega0           = float(input_dict['laser']['omega0'])\n",
    "#         gamma            = float(input_dict['beam']['gamma'])\n",
    "#         Xr               = 4*gamma*omega0/511*10**(-3)\n",
    "#         energyspread     = float(input_dict['beam']['energyspread'])\n",
    "        sigmaT   = float(input_dict['beam']['sigmaT'])\n",
    "\n",
    "    baseline = 7.5e6\n",
    "\n",
    "    thetax=K1/K3\n",
    "    thetay=K2/K3\n",
    "\n",
    "     \n",
    "\n",
    "    xoffset = thetax * baseline\n",
    "    yoffset = thetay * baseline\n",
    "    \n",
    "    Pd,Bins=Photon_density(xoffset,yoffset,X1,X2,spotsize,sigmaT,W,path,w0,a0,K0)\n",
    "    \n",
    "    \n",
    "    \n",
    "    return(Pd,sigmaT,Bins)"
   ]
  },
  {
   "cell_type": "code",
   "execution_count": 2,
   "id": "82bce954",
   "metadata": {
    "scrolled": false
   },
   "outputs": [
    {
     "ename": "FileNotFoundError",
     "evalue": "[Errno 2] No such file or directory: 'C:\\\\Users\\\\Dupish\\\\Documents\\\\GitHub\\\\luxeics\\\\Initial_YML_Files\\\\Small_Beam_Energy_Conserved1.yml'",
     "output_type": "error",
     "traceback": [
      "\u001b[1;31m---------------------------------------------------------------------------\u001b[0m",
      "\u001b[1;31mFileNotFoundError\u001b[0m                         Traceback (most recent call last)",
      "\u001b[1;32m<ipython-input-2-c910331b12f4>\u001b[0m in \u001b[0;36m<module>\u001b[1;34m\u001b[0m\n\u001b[0;32m      2\u001b[0m \u001b[1;33m\u001b[0m\u001b[0m\n\u001b[0;32m      3\u001b[0m \u001b[0mspotsize\u001b[0m \u001b[1;33m=\u001b[0m \u001b[1;36m3\u001b[0m\u001b[1;33m\u001b[0m\u001b[1;33m\u001b[0m\u001b[0m\n\u001b[1;32m----> 4\u001b[1;33m \u001b[1;32mwith\u001b[0m \u001b[0mopen\u001b[0m\u001b[1;33m(\u001b[0m \u001b[0minput_filename\u001b[0m \u001b[1;33m+\u001b[0m \u001b[1;34m'.yml'\u001b[0m\u001b[1;33m,\u001b[0m \u001b[1;34m'r'\u001b[0m \u001b[1;33m)\u001b[0m \u001b[1;32mas\u001b[0m \u001b[0mstream\u001b[0m\u001b[1;33m:\u001b[0m\u001b[1;33m\u001b[0m\u001b[1;33m\u001b[0m\u001b[0m\n\u001b[0m\u001b[0;32m      5\u001b[0m \u001b[1;33m\u001b[0m\u001b[0m\n\u001b[0;32m      6\u001b[0m \u001b[1;33m\u001b[0m\u001b[0m\n",
      "\u001b[1;31mFileNotFoundError\u001b[0m: [Errno 2] No such file or directory: 'C:\\\\Users\\\\Dupish\\\\Documents\\\\GitHub\\\\luxeics\\\\Initial_YML_Files\\\\Small_Beam_Energy_Conserved1.yml'"
     ]
    }
   ],
   "source": [
    "\n",
    "input_filename = f\"{os.getcwd()}{os.sep}Initial_YML_Files{os.sep}Small_Beam_Energy_Conserved1\"\n",
    "\n",
    "spotsize = 3 \n",
    "with open( input_filename + '.yml', 'r' ) as stream:\n",
    "               \n",
    "            \n",
    "            \n",
    "            input_dict = yaml.load(stream, Loader=yaml.SafeLoader)\n",
    "            \n",
    "\n",
    "            directory\t=input_dict['control']['folder']\n",
    "\n",
    "\n",
    "path = f\"{os.getcwd()}{os.sep}Photon_Density{os.sep}{directory}\"\n",
    "\n",
    "\n",
    "object = os.scandir(path+f'{os.sep}H_Five')\n",
    "print(\"Files and Directories in '% s':\" % path)\n",
    "Info=[]\n",
    "for n in object :\n",
    "    \n",
    "\n",
    "\n",
    "        Info.append( run(spotsize,f'{os.path.splitext(n.name)[0]}', f'{path}'))\n",
    "\n",
    "        #Bins.append( run(spotsize,f'{os.path.splitext(n.name)[0]}', f'{path}')[1])        \n",
    "        \n",
    "\n",
    "object.close()\n",
    "\n",
    "Info.sort(key = sortSecond)\n"
   ]
  },
  {
   "cell_type": "code",
   "execution_count": 172,
   "id": "6330fbbf",
   "metadata": {},
   "outputs": [
    {
     "name": "stdout",
     "output_type": "stream",
     "text": [
      "[[30.17085009  5.        ]\n",
      " [30.43415648 10.        ]\n",
      " [15.88326776 15.        ]\n",
      " [14.89428717 20.        ]\n",
      " [11.29659526 25.        ]\n",
      " [ 7.84093391 30.        ]\n",
      " [ 6.4972298  35.        ]\n",
      " [ 4.680605   40.        ]\n",
      " [ 4.05223529 45.        ]\n",
      " [ 3.22582494 50.        ]]\n"
     ]
    }
   ],
   "source": [
    "PD_Constant_W0=zeros((10,2))\n",
    "Bins=[]\n",
    "\n",
    "for i in range(10):\n",
    "    PD_Constant_W0[i,0]=Info[i][0]\n",
    "    PD_Constant_W0[i,1]=Info[i][1]\n",
    "    Bins.append(Info[i][2])\n",
    "print(PD_Constant_W0)"
   ]
  },
  {
   "cell_type": "code",
   "execution_count": 184,
   "id": "6402b57b",
   "metadata": {
    "scrolled": false
   },
   "outputs": [
    {
     "data": {
      "image/png": "[encoded data removed]",
      "text/plain": [
       "<Figure size 432x288 with 1 Axes>"
      ]
     },
     "metadata": {
      "needs_background": "light"
     },
     "output_type": "display_data"
    }
   ],
   "source": [
    "'''\n",
    "Creating Data For colour mesh\n",
    "\n",
    "'''\n",
    "\n",
    "Nz = len(Bins[0][0])\n",
    "z  = zeros((10,Nz))\n",
    "Nx = len(Bins[0][1])\n",
    "x=zeros((10,Nx))\n",
    "for i in range(0,10):\n",
    "    z[i]=array(Bins[i][0])\n",
    "    \n",
    "    \n",
    "y= PD_Constant_W0[:,1]\n",
    "x=array(Bins[0][1])    \n",
    "\n",
    "\n",
    "\n",
    "x_temp=[]\n",
    "for i in range(49):\n",
    "    \n",
    "    x_temp.append(0.5*(x[i]+x[i+1]))\n",
    "    \n",
    "\n",
    "x=array(x_temp)\n",
    "\n",
    "plt.pcolormesh(x,y,z)\n",
    "plt.xlabel('ICS photon energy (GeV)')\n",
    "plt.ylabel(r'$\\ SigmaT$  [microns]')\n",
    "plt.savefig(f'{path}\\PhotoSpectrum{spotsize}_Finite.png',dpi=200)\n"
   ]
  },
  {
   "cell_type": "code",
   "execution_count": 163,
   "id": "21435016",
   "metadata": {},
   "outputs": [
    {
     "name": "stderr",
     "output_type": "stream",
     "text": [
      "No handles with labels found to put in legend.\n"
     ]
    },
    {
     "data": {
      "image/png": "[encoded data removed]",
      "text/plain": [
       "<Figure size 432x288 with 1 Axes>"
      ]
     },
     "metadata": {
      "needs_background": "light"
     },
     "output_type": "display_data"
    }
   ],
   "source": [
    "\n",
    "\n",
    "plt.plot((PD_Constant_w0)[:,1],(PD_Constant_w0)[:,0])\n",
    "plt.xlabel('( sigmaT $[microns]$ )')\n",
    "plt.ylabel('(Photon Density )$[microns]^-2$')\n",
    "\n",
    "plt.title(f'Energy Conserved, Spotsize:{spotsize} microns')\n",
    "plt.legend()\n",
    "plt.savefig(f'{path}\\PhotonDensity_vs_sigmaT_Spotsize{spotsize}_Finite.png',dpi=200)\n",
    "\n"
   ]
  },
  {
   "cell_type": "code",
   "execution_count": 164,
   "id": "370f97fd",
   "metadata": {},
   "outputs": [
    {
     "name": "stdout",
     "output_type": "stream",
     "text": [
      "[[ 7.99673378  5.        ]\n",
      " [ 2.38574942 10.        ]\n",
      " [ 1.67173916 15.        ]\n",
      " [ 0.47393886 20.        ]\n",
      " [ 0.72909486 25.        ]\n",
      " [ 0.28974613 30.        ]\n",
      " [ 0.14382582 35.        ]\n",
      " [ 0.14770198 40.        ]\n",
      " [ 0.42385602 45.        ]\n",
      " [ 0.54409212 50.        ]]\n"
     ]
    }
   ],
   "source": [
    "print(PD_Constant_W0)"
   ]
  },
  {
   "cell_type": "code",
   "execution_count": 165,
   "id": "457503b4",
   "metadata": {},
   "outputs": [
    {
     "data": {
      "image/png": "[encoded data removed]",
      "text/plain": [
       "<Figure size 432x288 with 1 Axes>"
      ]
     },
     "metadata": {
      "needs_background": "light"
     },
     "output_type": "display_data"
    }
   ],
   "source": [
    "z=(polyfit(log(PD_Constant_w0[:,1].astype('float64')),log(PD_Constant_w0[:,0].astype('float64')),1))\n",
    "poly = poly1d(z)\n",
    "x=log(PD_Constant_w0[:,1].astype('float64'))\n",
    "y=poly(x)\n",
    "plt.plot(exp(x),exp(y),label=f'Linear Fit : Slope ={round(z[0],2)} ')\n",
    "plt.plot((PD_Constant_w0[:,1]),(PD_Constant_w0[:,0]))\n",
    "plt.title(f'SigmaT: Spotsize = {spotsize} microns ')\n",
    "plt.xscale('log')\n",
    "plt.yscale('log')\n",
    "plt.xlabel('log( sigmaT  )')\n",
    "plt.ylabel(f'log (Photon Density )')\n",
    "plt.legend()\n",
    "plt.savefig(f'{path}\\PhotonDensity_vs_sigmaT_Spotsize{spotsize}_Finite_Log_Scale.png',dpi=200)\n"
   ]
  },
  {
   "cell_type": "code",
   "execution_count": 168,
   "id": "d9de11f8",
   "metadata": {
    "scrolled": false
   },
   "outputs": [
    {
     "name": "stdout",
     "output_type": "stream",
     "text": [
      "(10, 3)\n",
      "          0     1    2\n",
      "0  7.996734   5.0  0.0\n",
      "1  2.385749  10.0  0.0\n",
      "2  1.671739  15.0  0.0\n",
      "3  0.473939  20.0  0.0\n",
      "4  0.729095  25.0  0.0\n",
      "5  0.289746  30.0  0.0\n",
      "6  0.143826  35.0  0.0\n",
      "7  0.147702  40.0  0.0\n",
      "8  0.423856  45.0  0.0\n",
      "9  0.544092  50.0  0.0\n"
     ]
    }
   ],
   "source": [
    "'''\n",
    "Saving the Data\n",
    "'''\n",
    "Pd=array(PD_Constant_w0)\n",
    "\n",
    "import pandas as pd\n",
    "import numpy as np\n",
    "import os\n",
    "n=np.shape(Pd)\n",
    "print(n)\n",
    "Data=np.zeros((n))\n",
    "Data[:,0]=Pd[:,0]\n",
    "Data[:,1]=Pd[:,1]\n",
    "df=pd.DataFrame(Data)\n",
    "\n",
    "List=[\"Photon Density \",\"SigmaT\",\"IDK\"]\n",
    "df.to_csv(f'{path}\\Photon_Density_Spotsize{spotsize}.txt',header=List , index=None, sep=\"\\t\", mode='w')\n",
    "\n",
    "\n",
    "\n",
    "print(df)"
   ]
  },
  {
   "cell_type": "code",
   "execution_count": 169,
   "id": "02655bd7",
   "metadata": {},
   "outputs": [
    {
     "name": "stdout",
     "output_type": "stream",
     "text": [
      "                      0       1    2\n",
      "0       Photon Density   SigmaT  IDK\n",
      "1      7.99673378017644     5.0  0.0\n",
      "2    2.3857494220913247    10.0  0.0\n",
      "3    1.6717391596355902    15.0  0.0\n",
      "4   0.47393886023762766    20.0  0.0\n",
      "5    0.7290948648489659    25.0  0.0\n",
      "6    0.2897461268385033    30.0  0.0\n",
      "7   0.14382581785404272    35.0  0.0\n",
      "8   0.14770198273399832    40.0  0.0\n",
      "9     0.423856015433656    45.0  0.0\n",
      "10   0.5440921226663785    50.0  0.0\n"
     ]
    }
   ],
   "source": [
    "'''\n",
    "Reading the text files\n",
    "The final array p does not contain the Header files\n",
    "\n",
    "'''\n",
    "print(pd.read_csv(f'{path}\\Photon_Density_Spotsize{spotsize}.txt',header=None , sep=\"\\t\"))\n",
    "\n",
    "r=pd.read_csv(f'{path}\\Photon_Density_Spotsize{spotsize}.txt',header=0 , sep=\"\\t\")\n",
    "Pd_SigmaT=pd.DataFrame.to_numpy(r)"
   ]
  },
  {
   "cell_type": "code",
   "execution_count": null,
   "id": "d8e3f6b1",
   "metadata": {},
   "outputs": [],
   "source": []
  },
  {
   "cell_type": "code",
   "execution_count": null,
   "id": "dc6242b3",
   "metadata": {},
   "outputs": [],
   "source": []
  }
 ],
 "metadata": {
  "kernelspec": {
   "display_name": "Python 3",
   "language": "python",
   "name": "python3"
  },
  "language_info": {
   "codemirror_mode": {
    "name": "ipython",
    "version": 3
   },
   "file_extension": ".py",
   "mimetype": "text/x-python",
   "name": "python",
   "nbconvert_exporter": "python",
   "pygments_lexer": "ipython3",
   "version": "3.8.8"
  }
 },
 "nbformat": 4,
 "nbformat_minor": 5
}
