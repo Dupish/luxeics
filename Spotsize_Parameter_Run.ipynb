{
 "cells": [
  {
   "cell_type": "code",
   "execution_count": 70,
   "id": "4ca7257e",
   "metadata": {},
   "outputs": [],
   "source": [
    "\n",
    "import yaml\n",
    "import os\n",
    "from tqdm import tqdm\n",
    "from numpy import *\n",
    "import luxeics\n",
    "import h5py\n",
    "\n",
    "from scipy.interpolate import interp2d,RectBivariateSpline\n",
    "\n",
    "import matplotlib.pyplot as plt\n",
    "\n",
    "import luxeics\n",
    "\n",
    "\n",
    "def Photon_density(xoffset,yoffset,X1,X2,baseline,spotsize,sigmaT,W,path):\n",
    "    \n",
    "    \n",
    "    Area=pi*spotsize**2\n",
    "\n",
    "    \n",
    "    selector= sqrt((xoffset+X1)**2+(yoffset+X2)**2) < spotsize\n",
    "\n",
    "\n",
    "#     print ( f'IP-laser spot size: {spotsize:.2f} micron')\n",
    "#     print ( f'baseline          : {baseline/1e6:.2f} metres')\n",
    "#     print ('-'*42)\n",
    "\n",
    "#     print (f'photons in spot')\n",
    "#     print (f'macrophoton weight               : {amax(W):.4g}')\n",
    "    \n",
    "#     print ( 'macrophotons, finite source size :',sum( selector) )\n",
    "    \n",
    "#     print ( 'photon weight, finite source size:',sum(W[selector ] ) )\n",
    "    \n",
    "    \n",
    "    P=sum(W[selector ] )/Area\n",
    "    \n",
    "#     print ( f'Photon density, finite source size:',P)\n",
    "    \n",
    "#     print (' ######################################### '  )\n",
    "#     print ('                           '  )\n",
    "#     plt.figure(figsize=(14,6))\n",
    "\n",
    "    \n",
    "\n",
    "#     ax1=plt.subplot(122,aspect=1)\n",
    "\n",
    "#     # plot(X1+xoffset, X2+yoffset, color='m', marker=',',lw=0);\n",
    "\n",
    "\n",
    "\n",
    "\n",
    "\n",
    "#     plt.scatter(X1+xoffset, X2+yoffset, color='m', marker='.',lw=0,s=W);\n",
    "\n",
    "#     plt.xlim(-2*spotsize,2*spotsize)\n",
    "#     plt.ylim(-2*spotsize,2*spotsize)\n",
    "    \n",
    "#     plt.xlabel(r'$x$ (micron)')\n",
    "#     plt.ylabel(r'$y$ (micron)');\n",
    "#     plt.title(f'Finite source size, Photon density:{round(P,2)} micron^(-2)')\n",
    "\n",
    "    \n",
    "#     ax1.add_patch(plt.Circle((0,0),spotsize,color='C0',fill=False))\n",
    "\n",
    "\n",
    "#     plt.suptitle(f' sigmaT :{sigmaT} micron ; spotsize:{spotsize} micron')\n",
    "#     plt.savefig(f'{path}\\photon_spectrum_at_focus_{sigmaT}_{spotsize}.png',dpi=200)\n",
    "    \n",
    "    return(P)\n",
    "                                      \n",
    "    \n",
    "                                   \n",
    "def run(spotsize,input_filename,path):\n",
    "    \n",
    "\n",
    "    \n",
    "    \n",
    "    with h5py.File(input_filename + '.h5' ,'r') as ff:\n",
    "    #     omega      = ff['final-state/spectrum/omega'][:]/1e9\n",
    "    #     theta      = ff['final-state/spectrum/theta'][:]*1e6\n",
    "    #     spectrum   = ff['final-state/spectrum/spectrum'][:]\n",
    "\n",
    "        K0,K1,K2,K3  = ff['final-state/photon/momentum'][:].T\n",
    "        X0,X1,X2,X3  = ff['final-state/photon/position'][:].T\n",
    "        W            = ff['final-state/photon/weight'  ][:]\n",
    "\n",
    "        P0,P1,P2,P3  = ff['final-state/electron/momentum'][:].T\n",
    "    #     X0,X1,X2,X3  = ff['final-state/photon/position'][:].T\n",
    "    #     We            = ff['final-state/photon/weight'  ][:]\n",
    "    with open( input_filename + '.yml', 'r' ) as stream:\n",
    "        input_dict = yaml.load(stream, Loader=yaml.SafeLoader)\n",
    "\n",
    "        mode             = input_dict['control']['mode']\n",
    "\n",
    "\n",
    "        beam_charge      = float( input_dict['beam']['beam_charge'])\n",
    "        number_electrons = int( beam_charge / 1.60217653e-19)\n",
    "\n",
    "    #     sampling         = input_dict['control']['sampling']\n",
    "        sampling = mode\n",
    "\n",
    "        w0               = float(input_dict['laser']['w0'])\n",
    "        omega0           = float(input_dict['laser']['omega0'])\n",
    "        gamma            = float(input_dict['beam']['gamma'])\n",
    "        Xr               = 4*gamma*omega0/511*10**(-3)\n",
    "        energyspread     = float(input_dict['beam']['energyspread'])\n",
    "        sigmaT   = float(input_dict['beam']['sigmaT'])\n",
    "#     print (f'beam charge                              : {beam_charge*1e12:.24} pC')\n",
    "#     print (f'number of beam electrons                 : {number_electrons:.3e}')\n",
    "#     print ('-'*42)\n",
    "#     print (f'{sampling} sampling:')\n",
    "#     print (f'max  single photon weight                : {amax(W):.4g}')\n",
    "#     print (f'mean single photon weight                : {mean(W):.4g}')\n",
    "#     print (f'total photon weight                      : {sum(W):.4g}')\n",
    "#     print (f'total photon weight per incident electron: {sum(W)/number_electrons:.4g}')\n",
    "#     print (f'total macro photon number                : {len(W)}')\n",
    "#     print ('-'*42)\n",
    "#     print(f' Frequency (Laser) :  {omega0}'  )\n",
    "#     print(f'Recoil Factor:{Xr}')\n",
    "#     print (' ######################################### '  )\n",
    "#     print ('                           '  )\n",
    "    baseline = 7.5e6\n",
    "\n",
    "    thetax=K1/K3\n",
    "    thetay=K2/K3\n",
    "\n",
    "     \n",
    "\n",
    "    xoffset = thetax * baseline\n",
    "    yoffset = thetay * baseline\n",
    "    \n",
    "    Pd=Photon_density(xoffset,yoffset,X1,X2,baseline,spotsize,sigmaT,W,path)\n",
    "    \n",
    "    \n",
    "    \n",
    "    \n",
    "    return(Pd)"
   ]
  },
  {
   "cell_type": "code",
   "execution_count": 71,
   "id": "2d2d303e",
   "metadata": {
    "scrolled": false
   },
   "outputs": [
    {
     "name": "stdout",
     "output_type": "stream",
     "text": [
      "C:\\Users\\Dupish\\Documents\\GitHub\\luxeics\\Photon_Density\\Large_Beam_Parameter_Run_Spotsize_2\n",
      "{'beam': {'beam_charge': '100e-12', 'emittance': 1.5, 'energyspread': '1e-3', 'gamma': 32289.62818003914, 'sigmaL': 20.0, 'sigmaT': 25.0, 'theta': 0.0}, 'control': {'beam': {'Nemit': 30, 'Nenergy': 7}, 'energyaverage': False, 'laser': {'sigma_crit': 500.0, 'sigma_rescale': False}, 'mode': 'full', 'name': 'C:\\\\Users\\\\Dupish\\\\Documents\\\\GitHub\\\\luxeics\\\\Photon_Density\\\\Large_Beam_Parameter_Run_Spotsize_2\\\\Large_Beam_Full', 'radiation': 'KN', 'sample_electrons': '1e2', 'sampling': 'rejection'}, 'detector': {'omega': ['5.0e9', '9.2e9', 300], 'pdim': 2, 'phi': 0.0, 'theta': [0, '15e-6', 110]}, 'laser': {'Tpulse': 100.0, 'a0': 0.1, 'omega0': 4.1, 'pol': 0.7853981633974483, 'pulse': 'cos2', 'w0': 25.0}}\n"
     ]
    },
    {
     "name": "stderr",
     "output_type": "stream",
     "text": [
      "\r",
      "  0%|                                                                                           | 0/10 [00:00<?, ?it/s]"
     ]
    },
    {
     "name": "stdout",
     "output_type": "stream",
     "text": [
      ">>> mode == full\n",
      "[100] 100 100\n",
      " >> number_electrons   = 624150947\n",
      " >> sample_electrons   = 100\n",
      " >> electron weight    = 6.242e+06\n",
      " >> MC sampling\n",
      "  > batch 0 : 100 macroelectrons\n",
      "   base photon weight : 455820.12660314015\n",
      "   number photons     : 1\n",
      "   total photon number: 1\n"
     ]
    },
    {
     "name": "stderr",
     "output_type": "stream",
     "text": [
      "\r",
      " 10%|████████▎                                                                          | 1/10 [00:00<00:03,  2.67it/s]"
     ]
    },
    {
     "name": "stdout",
     "output_type": "stream",
     "text": [
      ">>> mode == full\n",
      "[100] 100 100\n",
      " >> number_electrons   = 624150947\n",
      " >> sample_electrons   = 100\n",
      " >> electron weight    = 6.242e+06\n",
      " >> MC sampling\n",
      "  > batch 0 : 100 macroelectrons\n",
      "   base photon weight : 1.7592009433347437\n",
      "   number photons     : 1\n",
      "   total photon number: 1\n"
     ]
    },
    {
     "name": "stderr",
     "output_type": "stream",
     "text": [
      "\r",
      " 20%|████████████████▌                                                                  | 2/10 [00:00<00:02,  2.88it/s]"
     ]
    },
    {
     "name": "stdout",
     "output_type": "stream",
     "text": [
      ">>> mode == full\n",
      "[100] 100 100\n",
      " >> number_electrons   = 624150947\n",
      " >> sample_electrons   = 100\n",
      " >> electron weight    = 6.242e+06\n",
      " >> MC sampling\n",
      "  > batch 0 : 100 macroelectrons\n",
      "   base photon weight : 1117105.2480848676\n",
      "   number photons     : 1\n",
      "   total photon number: 1\n"
     ]
    },
    {
     "name": "stderr",
     "output_type": "stream",
     "text": [
      "\r",
      " 30%|████████████████████████▉                                                          | 3/10 [00:00<00:02,  3.08it/s]"
     ]
    },
    {
     "name": "stdout",
     "output_type": "stream",
     "text": [
      ">>> mode == full\n",
      "[100] 100 100\n",
      " >> number_electrons   = 624150947\n",
      " >> sample_electrons   = 100\n",
      " >> electron weight    = 6.242e+06\n",
      " >> MC sampling\n",
      "  > batch 0 : 100 macroelectrons\n",
      "   base photon weight : 58618.54114276344\n",
      "   number photons     : 1\n",
      "   total photon number: 1\n"
     ]
    },
    {
     "name": "stderr",
     "output_type": "stream",
     "text": [
      "\r",
      " 40%|█████████████████████████████████▏                                                 | 4/10 [00:01<00:01,  3.01it/s]"
     ]
    },
    {
     "name": "stdout",
     "output_type": "stream",
     "text": [
      ">>> mode == full\n",
      "[100] 100 100\n",
      " >> number_electrons   = 624150947\n",
      " >> sample_electrons   = 100\n",
      " >> electron weight    = 6.242e+06\n",
      " >> MC sampling\n",
      "  > batch 0 : 100 macroelectrons\n",
      "   base photon weight : 10.369199790980364\n",
      "   number photons     : 1\n",
      "   total photon number: 1\n"
     ]
    },
    {
     "name": "stderr",
     "output_type": "stream",
     "text": [
      "\r",
      " 50%|█████████████████████████████████████████▌                                         | 5/10 [00:01<00:01,  3.02it/s]"
     ]
    },
    {
     "name": "stdout",
     "output_type": "stream",
     "text": [
      ">>> mode == full\n",
      "[100] 100 100\n",
      " >> number_electrons   = 624150947\n",
      " >> sample_electrons   = 100\n",
      " >> electron weight    = 6.242e+06\n",
      " >> MC sampling\n",
      "  > batch 0 : 100 macroelectrons\n",
      "   base photon weight : 17667.90694003502\n",
      "   number photons     : 1\n",
      "   total photon number: 1\n"
     ]
    },
    {
     "name": "stderr",
     "output_type": "stream",
     "text": [
      "\r",
      " 60%|█████████████████████████████████████████████████▊                                 | 6/10 [00:01<00:01,  3.13it/s]"
     ]
    },
    {
     "name": "stdout",
     "output_type": "stream",
     "text": [
      ">>> mode == full\n",
      "[100] 100 100\n",
      " >> number_electrons   = 624150947\n",
      " >> sample_electrons   = 100\n",
      " >> electron weight    = 6.242e+06\n",
      " >> MC sampling\n",
      "  > batch 0 : 100 macroelectrons\n",
      "   base photon weight : 40436.525697452475\n",
      "   number photons     : 1\n",
      "   total photon number: 1\n"
     ]
    },
    {
     "name": "stderr",
     "output_type": "stream",
     "text": [
      "\r",
      " 70%|██████████████████████████████████████████████████████████                         | 7/10 [00:02<00:00,  3.01it/s]"
     ]
    },
    {
     "name": "stdout",
     "output_type": "stream",
     "text": [
      ">>> mode == full\n",
      "[100] 100 100\n",
      " >> number_electrons   = 624150947\n",
      " >> sample_electrons   = 100\n",
      " >> electron weight    = 6.242e+06\n",
      " >> MC sampling\n",
      "  > batch 0 : 100 macroelectrons\n",
      "   base photon weight : 106597.52294902387\n",
      "   number photons     : 1\n",
      "   total photon number: 1\n"
     ]
    },
    {
     "name": "stderr",
     "output_type": "stream",
     "text": [
      "\r",
      " 80%|██████████████████████████████████████████████████████████████████▍                | 8/10 [00:02<00:00,  3.12it/s]"
     ]
    },
    {
     "name": "stdout",
     "output_type": "stream",
     "text": [
      ">>> mode == full\n",
      "[100] 100 100\n",
      " >> number_electrons   = 624150947\n",
      " >> sample_electrons   = 100\n",
      " >> electron weight    = 6.242e+06\n",
      " >> MC sampling\n",
      "  > batch 0 : 100 macroelectrons\n",
      "   base photon weight : 568610.8065367156\n",
      "   number photons     : 1\n",
      "   total photon number: 1\n"
     ]
    },
    {
     "name": "stderr",
     "output_type": "stream",
     "text": [
      "\r",
      " 90%|██████████████████████████████████████████████████████████████████████████▋        | 9/10 [00:02<00:00,  3.14it/s]"
     ]
    },
    {
     "name": "stdout",
     "output_type": "stream",
     "text": [
      ">>> mode == full\n",
      "[100] 100 100\n",
      " >> number_electrons   = 624150947\n",
      " >> sample_electrons   = 100\n",
      " >> electron weight    = 6.242e+06\n",
      " >> MC sampling\n",
      "  > batch 0 : 100 macroelectrons\n",
      "   base photon weight : 13.590576144353202\n",
      "   number photons     : 3\n",
      "   total photon number: 3\n"
     ]
    },
    {
     "name": "stderr",
     "output_type": "stream",
     "text": [
      "100%|██████████████████████████████████████████████████████████████████████████████████| 10/10 [00:03<00:00,  3.00it/s]\n"
     ]
    }
   ],
   "source": [
    " \n",
    "\n",
    "input_filename = \"Large_Beam_Full\"\n",
    "r=10  ####Number of runs\n",
    "n=29\n",
    "spotsize_Lower_Lim=2\n",
    "spotsize_Upper_Lim=30\n",
    "spotsize=np.linspace(spotsize_Lower_Lim,spotsize_Upper_Lim,n)\n",
    "\n",
    "directory = \"Large_Beam_Parameter_Run_Spotsize_2\"\n",
    "parent_dir = f\"{os. getcwd()}\\Photon_Density\"\n",
    "path = os.path.join(parent_dir, directory)\n",
    "os.mkdir(path)\n",
    "print(path)\n",
    "\n",
    "\"\"\"\n",
    "\n",
    "Saving the File in a New Folder for future reference\n",
    "\n",
    "\"\"\"\n",
    "\n",
    "\n",
    "with open( input_filename+'.yml', 'r' ) as stream:\n",
    "    input_dict = yaml.load(stream, Loader=yaml.SafeLoader)\n",
    "    \n",
    "\n",
    "    \n",
    "    input_dict['control']['name']=f'{path}\\Large_Beam_Full'\n",
    "    SigmaT=input_dict['beam']['sigmaT']\n",
    "    \n",
    "\n",
    "with open(      f'{path}\\Large_Beam_Full'+'.yml', 'w') as file:\n",
    "    documents = yaml.dump(input_dict, file)\n",
    "    \n",
    "    \n",
    "\"\"\"\n",
    "\n",
    "Running Monte-Carlo Simulations\n",
    "\n",
    "\"\"\"\n",
    "\n",
    "\n",
    "\n",
    "\n",
    "with open( f'{path}\\Large_Beam_Full'+'.yml', 'r' ) as stream:\n",
    "    input_dict = yaml.load(stream, Loader=yaml.SafeLoader)\n",
    "\n",
    "print (input_dict)\n",
    "\n",
    "Pd=np.zeros((n,r))\n",
    "for j in tqdm(range(r)):\n",
    "\n",
    "    luxeics.main_program( f'{path}\\Large_Beam_Full'+'.yml' )\n",
    "\n",
    "    \n",
    "    for i in range(n):\n",
    "\n",
    "        Pd[i,j]=run(spotsize[i],f'{path}\\Large_Beam_Full',path)\n"
   ]
  },
  {
   "cell_type": "code",
   "execution_count": 26,
   "id": "ae544387",
   "metadata": {},
   "outputs": [
    {
     "data": {
      "text/plain": [
       "'\\nZero Source Size Plot; Unphysical, therefore commented \\n'"
      ]
     },
     "execution_count": 26,
     "metadata": {},
     "output_type": "execute_result"
    }
   ],
   "source": [
    "\n",
    "\"\"\"\n",
    "Zero Source Size Plot; Unphysical, therefore commented \n",
    "\"\"\"\n",
    "# plt.plot(sigma,Pd[:,0],label=f'{spotsize1} microns')\n",
    "# plt.plot(sigma,Pd[:,1],label=f'{spotsize2} microns')\n",
    "# plt.xlabel('SigmaT [microns]')\n",
    "# plt.ylabel(r'Photon Density [microns^(-2)]')\n",
    "# plt.legend()\n",
    "# plt.title('Zero Source Size')\n",
    "# plt.savefig(f'{path}\\PhotonDensity_vs_sigmaT_Zero.png',dpi=200)"
   ]
  },
  {
   "cell_type": "code",
   "execution_count": 72,
   "id": "27f3c738",
   "metadata": {},
   "outputs": [],
   "source": [
    "Pd_Mean=np.ones(n)\n",
    "\n",
    "Pd_STD=np.ones(n)\n",
    "for i in range(n):\n",
    "\n",
    "    Pd_Mean[i]=np.mean(Pd[i,:])\n",
    "    Pd_STD[i]=np.std(Pd[i,:])"
   ]
  },
  {
   "cell_type": "code",
   "execution_count": 73,
   "id": "3ebc69b2",
   "metadata": {},
   "outputs": [
    {
     "name": "stdout",
     "output_type": "stream",
     "text": [
      "[0.         0.         0.         0.         0.         0.\n",
      " 0.         0.         0.         0.         0.         0.\n",
      " 0.         0.         0.         0.         0.         0.\n",
      " 0.         0.         0.         0.         0.         0.\n",
      " 0.         0.         0.         0.00051439 0.00048067]\n"
     ]
    }
   ],
   "source": [
    "print(Pd_Mean)"
   ]
  },
  {
   "cell_type": "code",
   "execution_count": 75,
   "id": "03d536c3",
   "metadata": {
    "scrolled": true
   },
   "outputs": [
    {
     "ename": "FileNotFoundError",
     "evalue": "[Errno 2] No such file or directory: 'C:\\\\Users\\\\Dupish\\\\Documents\\\\GitHub\\\\luxeics\\\\Photon_Density\\\\Large_Beam_Parameter_Run_Spotsize_2\\\\PhotonDensity_vs_spotsize_Finite.png'",
     "output_type": "error",
     "traceback": [
      "\u001b[1;31m---------------------------------------------------------------------------\u001b[0m",
      "\u001b[1;31mFileNotFoundError\u001b[0m                         Traceback (most recent call last)",
      "\u001b[1;32m<ipython-input-75-cdef1729026b>\u001b[0m in \u001b[0;36m<module>\u001b[1;34m\u001b[0m\n\u001b[0;32m      5\u001b[0m \u001b[0mplt\u001b[0m\u001b[1;33m.\u001b[0m\u001b[0mtitle\u001b[0m\u001b[1;33m(\u001b[0m\u001b[1;34m'Finite Source Size'\u001b[0m\u001b[1;33m)\u001b[0m\u001b[1;33m\u001b[0m\u001b[1;33m\u001b[0m\u001b[0m\n\u001b[0;32m      6\u001b[0m \u001b[0mplt\u001b[0m\u001b[1;33m.\u001b[0m\u001b[0mlegend\u001b[0m\u001b[1;33m(\u001b[0m\u001b[1;33m)\u001b[0m\u001b[1;33m\u001b[0m\u001b[1;33m\u001b[0m\u001b[0m\n\u001b[1;32m----> 7\u001b[1;33m \u001b[0mplt\u001b[0m\u001b[1;33m.\u001b[0m\u001b[0msavefig\u001b[0m\u001b[1;33m(\u001b[0m\u001b[1;34mf'{path}\\PhotonDensity_vs_spotsize_Finite.png'\u001b[0m\u001b[1;33m,\u001b[0m\u001b[0mdpi\u001b[0m\u001b[1;33m=\u001b[0m\u001b[1;36m200\u001b[0m\u001b[1;33m)\u001b[0m\u001b[1;33m\u001b[0m\u001b[1;33m\u001b[0m\u001b[0m\n\u001b[0m",
      "\u001b[1;32m~\\anaconda3\\lib\\site-packages\\matplotlib\\pyplot.py\u001b[0m in \u001b[0;36msavefig\u001b[1;34m(*args, **kwargs)\u001b[0m\n\u001b[0;32m    857\u001b[0m \u001b[1;32mdef\u001b[0m \u001b[0msavefig\u001b[0m\u001b[1;33m(\u001b[0m\u001b[1;33m*\u001b[0m\u001b[0margs\u001b[0m\u001b[1;33m,\u001b[0m \u001b[1;33m**\u001b[0m\u001b[0mkwargs\u001b[0m\u001b[1;33m)\u001b[0m\u001b[1;33m:\u001b[0m\u001b[1;33m\u001b[0m\u001b[1;33m\u001b[0m\u001b[0m\n\u001b[0;32m    858\u001b[0m     \u001b[0mfig\u001b[0m \u001b[1;33m=\u001b[0m \u001b[0mgcf\u001b[0m\u001b[1;33m(\u001b[0m\u001b[1;33m)\u001b[0m\u001b[1;33m\u001b[0m\u001b[1;33m\u001b[0m\u001b[0m\n\u001b[1;32m--> 859\u001b[1;33m     \u001b[0mres\u001b[0m \u001b[1;33m=\u001b[0m \u001b[0mfig\u001b[0m\u001b[1;33m.\u001b[0m\u001b[0msavefig\u001b[0m\u001b[1;33m(\u001b[0m\u001b[1;33m*\u001b[0m\u001b[0margs\u001b[0m\u001b[1;33m,\u001b[0m \u001b[1;33m**\u001b[0m\u001b[0mkwargs\u001b[0m\u001b[1;33m)\u001b[0m\u001b[1;33m\u001b[0m\u001b[1;33m\u001b[0m\u001b[0m\n\u001b[0m\u001b[0;32m    860\u001b[0m     \u001b[0mfig\u001b[0m\u001b[1;33m.\u001b[0m\u001b[0mcanvas\u001b[0m\u001b[1;33m.\u001b[0m\u001b[0mdraw_idle\u001b[0m\u001b[1;33m(\u001b[0m\u001b[1;33m)\u001b[0m   \u001b[1;31m# need this if 'transparent=True' to reset colors\u001b[0m\u001b[1;33m\u001b[0m\u001b[1;33m\u001b[0m\u001b[0m\n\u001b[0;32m    861\u001b[0m     \u001b[1;32mreturn\u001b[0m \u001b[0mres\u001b[0m\u001b[1;33m\u001b[0m\u001b[1;33m\u001b[0m\u001b[0m\n",
      "\u001b[1;32m~\\anaconda3\\lib\\site-packages\\matplotlib\\figure.py\u001b[0m in \u001b[0;36msavefig\u001b[1;34m(self, fname, transparent, **kwargs)\u001b[0m\n\u001b[0;32m   2309\u001b[0m                 \u001b[0mpatch\u001b[0m\u001b[1;33m.\u001b[0m\u001b[0mset_edgecolor\u001b[0m\u001b[1;33m(\u001b[0m\u001b[1;34m'none'\u001b[0m\u001b[1;33m)\u001b[0m\u001b[1;33m\u001b[0m\u001b[1;33m\u001b[0m\u001b[0m\n\u001b[0;32m   2310\u001b[0m \u001b[1;33m\u001b[0m\u001b[0m\n\u001b[1;32m-> 2311\u001b[1;33m         \u001b[0mself\u001b[0m\u001b[1;33m.\u001b[0m\u001b[0mcanvas\u001b[0m\u001b[1;33m.\u001b[0m\u001b[0mprint_figure\u001b[0m\u001b[1;33m(\u001b[0m\u001b[0mfname\u001b[0m\u001b[1;33m,\u001b[0m \u001b[1;33m**\u001b[0m\u001b[0mkwargs\u001b[0m\u001b[1;33m)\u001b[0m\u001b[1;33m\u001b[0m\u001b[1;33m\u001b[0m\u001b[0m\n\u001b[0m\u001b[0;32m   2312\u001b[0m \u001b[1;33m\u001b[0m\u001b[0m\n\u001b[0;32m   2313\u001b[0m         \u001b[1;32mif\u001b[0m \u001b[0mtransparent\u001b[0m\u001b[1;33m:\u001b[0m\u001b[1;33m\u001b[0m\u001b[1;33m\u001b[0m\u001b[0m\n",
      "\u001b[1;32m~\\anaconda3\\lib\\site-packages\\matplotlib\\backend_bases.py\u001b[0m in \u001b[0;36mprint_figure\u001b[1;34m(self, filename, dpi, facecolor, edgecolor, orientation, format, bbox_inches, pad_inches, bbox_extra_artists, backend, **kwargs)\u001b[0m\n\u001b[0;32m   2208\u001b[0m \u001b[1;33m\u001b[0m\u001b[0m\n\u001b[0;32m   2209\u001b[0m             \u001b[1;32mtry\u001b[0m\u001b[1;33m:\u001b[0m\u001b[1;33m\u001b[0m\u001b[1;33m\u001b[0m\u001b[0m\n\u001b[1;32m-> 2210\u001b[1;33m                 result = print_method(\n\u001b[0m\u001b[0;32m   2211\u001b[0m                     \u001b[0mfilename\u001b[0m\u001b[1;33m,\u001b[0m\u001b[1;33m\u001b[0m\u001b[1;33m\u001b[0m\u001b[0m\n\u001b[0;32m   2212\u001b[0m                     \u001b[0mdpi\u001b[0m\u001b[1;33m=\u001b[0m\u001b[0mdpi\u001b[0m\u001b[1;33m,\u001b[0m\u001b[1;33m\u001b[0m\u001b[1;33m\u001b[0m\u001b[0m\n",
      "\u001b[1;32m~\\anaconda3\\lib\\site-packages\\matplotlib\\backend_bases.py\u001b[0m in \u001b[0;36mwrapper\u001b[1;34m(*args, **kwargs)\u001b[0m\n\u001b[0;32m   1637\u001b[0m             \u001b[0mkwargs\u001b[0m\u001b[1;33m.\u001b[0m\u001b[0mpop\u001b[0m\u001b[1;33m(\u001b[0m\u001b[0marg\u001b[0m\u001b[1;33m)\u001b[0m\u001b[1;33m\u001b[0m\u001b[1;33m\u001b[0m\u001b[0m\n\u001b[0;32m   1638\u001b[0m \u001b[1;33m\u001b[0m\u001b[0m\n\u001b[1;32m-> 1639\u001b[1;33m         \u001b[1;32mreturn\u001b[0m \u001b[0mfunc\u001b[0m\u001b[1;33m(\u001b[0m\u001b[1;33m*\u001b[0m\u001b[0margs\u001b[0m\u001b[1;33m,\u001b[0m \u001b[1;33m**\u001b[0m\u001b[0mkwargs\u001b[0m\u001b[1;33m)\u001b[0m\u001b[1;33m\u001b[0m\u001b[1;33m\u001b[0m\u001b[0m\n\u001b[0m\u001b[0;32m   1640\u001b[0m \u001b[1;33m\u001b[0m\u001b[0m\n\u001b[0;32m   1641\u001b[0m     \u001b[1;32mreturn\u001b[0m \u001b[0mwrapper\u001b[0m\u001b[1;33m\u001b[0m\u001b[1;33m\u001b[0m\u001b[0m\n",
      "\u001b[1;32m~\\anaconda3\\lib\\site-packages\\matplotlib\\backends\\backend_agg.py\u001b[0m in \u001b[0;36mprint_png\u001b[1;34m(self, filename_or_obj, metadata, pil_kwargs, *args)\u001b[0m\n\u001b[0;32m    508\u001b[0m         \"\"\"\n\u001b[0;32m    509\u001b[0m         \u001b[0mFigureCanvasAgg\u001b[0m\u001b[1;33m.\u001b[0m\u001b[0mdraw\u001b[0m\u001b[1;33m(\u001b[0m\u001b[0mself\u001b[0m\u001b[1;33m)\u001b[0m\u001b[1;33m\u001b[0m\u001b[1;33m\u001b[0m\u001b[0m\n\u001b[1;32m--> 510\u001b[1;33m         mpl.image.imsave(\n\u001b[0m\u001b[0;32m    511\u001b[0m             \u001b[0mfilename_or_obj\u001b[0m\u001b[1;33m,\u001b[0m \u001b[0mself\u001b[0m\u001b[1;33m.\u001b[0m\u001b[0mbuffer_rgba\u001b[0m\u001b[1;33m(\u001b[0m\u001b[1;33m)\u001b[0m\u001b[1;33m,\u001b[0m \u001b[0mformat\u001b[0m\u001b[1;33m=\u001b[0m\u001b[1;34m\"png\"\u001b[0m\u001b[1;33m,\u001b[0m \u001b[0morigin\u001b[0m\u001b[1;33m=\u001b[0m\u001b[1;34m\"upper\"\u001b[0m\u001b[1;33m,\u001b[0m\u001b[1;33m\u001b[0m\u001b[1;33m\u001b[0m\u001b[0m\n\u001b[0;32m    512\u001b[0m             dpi=self.figure.dpi, metadata=metadata, pil_kwargs=pil_kwargs)\n",
      "\u001b[1;32m~\\anaconda3\\lib\\site-packages\\matplotlib\\image.py\u001b[0m in \u001b[0;36mimsave\u001b[1;34m(fname, arr, vmin, vmax, cmap, format, origin, dpi, metadata, pil_kwargs)\u001b[0m\n\u001b[0;32m   1609\u001b[0m         \u001b[0mpil_kwargs\u001b[0m\u001b[1;33m.\u001b[0m\u001b[0msetdefault\u001b[0m\u001b[1;33m(\u001b[0m\u001b[1;34m\"format\"\u001b[0m\u001b[1;33m,\u001b[0m \u001b[0mformat\u001b[0m\u001b[1;33m)\u001b[0m\u001b[1;33m\u001b[0m\u001b[1;33m\u001b[0m\u001b[0m\n\u001b[0;32m   1610\u001b[0m         \u001b[0mpil_kwargs\u001b[0m\u001b[1;33m.\u001b[0m\u001b[0msetdefault\u001b[0m\u001b[1;33m(\u001b[0m\u001b[1;34m\"dpi\"\u001b[0m\u001b[1;33m,\u001b[0m \u001b[1;33m(\u001b[0m\u001b[0mdpi\u001b[0m\u001b[1;33m,\u001b[0m \u001b[0mdpi\u001b[0m\u001b[1;33m)\u001b[0m\u001b[1;33m)\u001b[0m\u001b[1;33m\u001b[0m\u001b[1;33m\u001b[0m\u001b[0m\n\u001b[1;32m-> 1611\u001b[1;33m         \u001b[0mimage\u001b[0m\u001b[1;33m.\u001b[0m\u001b[0msave\u001b[0m\u001b[1;33m(\u001b[0m\u001b[0mfname\u001b[0m\u001b[1;33m,\u001b[0m \u001b[1;33m**\u001b[0m\u001b[0mpil_kwargs\u001b[0m\u001b[1;33m)\u001b[0m\u001b[1;33m\u001b[0m\u001b[1;33m\u001b[0m\u001b[0m\n\u001b[0m\u001b[0;32m   1612\u001b[0m \u001b[1;33m\u001b[0m\u001b[0m\n\u001b[0;32m   1613\u001b[0m \u001b[1;33m\u001b[0m\u001b[0m\n",
      "\u001b[1;32m~\\anaconda3\\lib\\site-packages\\PIL\\Image.py\u001b[0m in \u001b[0;36msave\u001b[1;34m(self, fp, format, **params)\u001b[0m\n\u001b[0;32m   2167\u001b[0m                 \u001b[0mfp\u001b[0m \u001b[1;33m=\u001b[0m \u001b[0mbuiltins\u001b[0m\u001b[1;33m.\u001b[0m\u001b[0mopen\u001b[0m\u001b[1;33m(\u001b[0m\u001b[0mfilename\u001b[0m\u001b[1;33m,\u001b[0m \u001b[1;34m\"r+b\"\u001b[0m\u001b[1;33m)\u001b[0m\u001b[1;33m\u001b[0m\u001b[1;33m\u001b[0m\u001b[0m\n\u001b[0;32m   2168\u001b[0m             \u001b[1;32melse\u001b[0m\u001b[1;33m:\u001b[0m\u001b[1;33m\u001b[0m\u001b[1;33m\u001b[0m\u001b[0m\n\u001b[1;32m-> 2169\u001b[1;33m                 \u001b[0mfp\u001b[0m \u001b[1;33m=\u001b[0m \u001b[0mbuiltins\u001b[0m\u001b[1;33m.\u001b[0m\u001b[0mopen\u001b[0m\u001b[1;33m(\u001b[0m\u001b[0mfilename\u001b[0m\u001b[1;33m,\u001b[0m \u001b[1;34m\"w+b\"\u001b[0m\u001b[1;33m)\u001b[0m\u001b[1;33m\u001b[0m\u001b[1;33m\u001b[0m\u001b[0m\n\u001b[0m\u001b[0;32m   2170\u001b[0m \u001b[1;33m\u001b[0m\u001b[0m\n\u001b[0;32m   2171\u001b[0m         \u001b[1;32mtry\u001b[0m\u001b[1;33m:\u001b[0m\u001b[1;33m\u001b[0m\u001b[1;33m\u001b[0m\u001b[0m\n",
      "\u001b[1;31mFileNotFoundError\u001b[0m: [Errno 2] No such file or directory: 'C:\\\\Users\\\\Dupish\\\\Documents\\\\GitHub\\\\luxeics\\\\Photon_Density\\\\Large_Beam_Parameter_Run_Spotsize_2\\\\PhotonDensity_vs_spotsize_Finite.png'"
     ]
    },
    {
     "data": {
      "image/png": "[encoded data removed]",
      "text/plain": [
       "<Figure size 432x288 with 1 Axes>"
      ]
     },
     "metadata": {
      "needs_background": "light"
     },
     "output_type": "display_data"
    }
   ],
   "source": [
    "plt.plot(spotsize,Pd_Mean,label=f'sigmaT:{SigmaT} microns')\n",
    "plt.errorbar(spotsize,Pd_Mean,Pd_STD, linestyle='None', marker='.',label='St. Deviation')\n",
    "plt.xlabel('spotsize [microns]')\n",
    "plt.ylabel('Photon Density [microns^(-2)]')\n",
    "plt.title('Finite Source Size')\n",
    "plt.legend()\n",
    "plt.savefig(f'{path}\\PhotonDensity_vs_spotsize_Finite.png',dpi=200)"
   ]
  },
  {
   "cell_type": "code",
   "execution_count": 65,
   "id": "1f90745b",
   "metadata": {},
   "outputs": [
    {
     "name": "stdout",
     "output_type": "stream",
     "text": [
      "      0          1          2          3          4          5          6   \\\n",
      "0    2.0  12.430303  11.816453  12.527209  13.919679   9.563234  11.070080   \n",
      "1    3.0   9.664804  10.458387  10.983490  11.116113   9.791636   9.641938   \n",
      "2    4.0  11.722056  11.143483  10.626608  10.248063   9.790927  10.086504   \n",
      "3    5.0  10.552372  10.486219   9.664166   9.696926   9.905752  10.121400   \n",
      "4    6.0   9.972401  10.101348   9.696102   9.769898  10.114760  10.162947   \n",
      "5    7.0  10.491405  10.232448  10.118730  10.011882  10.175312  10.338181   \n",
      "6    8.0  10.564322   9.905440  10.209928   9.961511  10.314887  10.281085   \n",
      "7    9.0  10.557239   9.660990  10.350444   9.815459   9.962826  10.217871   \n",
      "8   10.0  10.392677   9.925153  10.517866   9.691962  10.046289  10.068570   \n",
      "9   11.0  10.196822  10.281265  10.771542   9.799758   9.927501   9.970615   \n",
      "10  12.0  10.126011  10.122755  10.658349   9.850847  10.024058  10.173912   \n",
      "11  13.0  10.137890  10.226737  10.636120  10.059683   9.980298   9.999725   \n",
      "12  14.0  10.196535   9.985522  10.618662  10.048846   9.806620  10.017178   \n",
      "13  15.0  10.069352   9.939549  10.561981  10.143795   9.727872  10.001814   \n",
      "14  16.0   9.856669   9.945958  10.528477  10.217418   9.795810   9.996684   \n",
      "15  17.0   9.919789   9.925272  10.385694  10.255081   9.812045   9.968606   \n",
      "16  18.0   9.986919  10.027793  10.401636  10.223185   9.850279   9.878289   \n",
      "17  19.0  10.067936  10.040001  10.405792  10.296402   9.782032   9.905044   \n",
      "18  20.0   9.885902   9.991309  10.347269  10.326747   9.806074  10.039087   \n",
      "19  21.0   9.857708   9.899960  10.225994  10.297977   9.920465  10.007258   \n",
      "20  22.0   9.844188   9.980628  10.224801  10.264794   9.938268  10.012094   \n",
      "21  23.0   9.796465   9.967173  10.355238  10.209512   9.954070   9.968873   \n",
      "22  24.0   9.732891   9.965271  10.329918  10.135357   9.954447   9.946003   \n",
      "23  25.0   9.731086   9.915409  10.293304  10.133463   9.951728   9.912126   \n",
      "24  26.0   9.709550  10.026703  10.297317  10.025254   9.984400   9.918892   \n",
      "25  27.0   9.717135   9.986176  10.240523  10.011909   9.954195   9.928523   \n",
      "26  28.0   9.680782   9.975984  10.223770  10.034700   9.925241   9.955822   \n",
      "27  29.0   9.659418   9.975250  10.230631  10.001048   9.854586   9.956123   \n",
      "28  30.0   9.684539   9.935217  10.218363  10.019382   9.893752   9.922908   \n",
      "\n",
      "           7          8          9          10  \n",
      "0   15.623121   7.003697   9.495692  10.013110  \n",
      "1   12.930323   9.828634  10.360255  10.629581  \n",
      "2   11.794282  10.672239  10.603047  10.621263  \n",
      "3   11.367033  10.726903  10.790560   9.843095  \n",
      "4   10.907619  10.240210  10.412888   9.955758  \n",
      "5   10.514640  11.132851  10.323092  10.018517  \n",
      "6   10.840316  11.013144  10.340109  10.318785  \n",
      "7   10.518426  10.408673  10.267768  10.188990  \n",
      "8   10.520337  10.405578  10.417760  10.262586  \n",
      "9   10.293351  10.183307  10.647363  10.185343  \n",
      "10  10.165204  10.397793  10.491579  10.358030  \n",
      "11  10.177155  10.279146  10.366505  10.299799  \n",
      "12  10.101797  10.232209  10.360129  10.125464  \n",
      "13  10.321385  10.217583  10.333019  10.337027  \n",
      "14  10.437203  10.279273  10.401340  10.312229  \n",
      "15  10.371847  10.355426  10.250718  10.273046  \n",
      "16  10.347655  10.322093  10.241386  10.243649  \n",
      "17  10.438347  10.322211  10.124534  10.247082  \n",
      "18  10.378239  10.316043  10.193541   9.999028  \n",
      "19  10.364427  10.388285  10.250863   9.888529  \n",
      "20  10.164711  10.363540  10.258294   9.831771  \n",
      "21  10.139885  10.389039  10.270532   9.848219  \n",
      "22  10.092260  10.390995  10.214107   9.883881  \n",
      "23  10.009483  10.348798  10.189198   9.836882  \n",
      "24   9.969179  10.292784  10.168634   9.779155  \n",
      "25   9.949753  10.243515  10.124813   9.776241  \n",
      "26   9.987006  10.304847  10.133370   9.752369  \n",
      "27   9.968816  10.260063  10.065604   9.713282  \n",
      "28   9.975945  10.249466   9.998979   9.693336  \n"
     ]
    }
   ],
   "source": [
    "import pandas as pd\n",
    "import numpy as np\n",
    "import os\n",
    "Data=np.zeros((n,11))\n",
    "Data[:,0]=spotsize\n",
    "Data[:,1:11]=Pd[:,0:10]\n",
    "df=pd.DataFrame(Data)\n",
    "\n",
    "List=[\"Spotsize(microns)\",\"Photon Density \",\"Photon Density \",\"Photon Density \",\"Photon Density \",\"Photon Density \",\"Photon Density \",\"Photon Density \",\"Photon Density \",\"Photon Density \",\"Photon Density \"]\n",
    "df.to_csv(f'{path}\\Photon_Density.txt',header=List , index=None, sep=\"\\t\", mode='w')\n",
    "\n",
    "\n",
    "\n",
    "print(df)"
   ]
  },
  {
   "cell_type": "code",
   "execution_count": 79,
   "id": "fb880f66",
   "metadata": {},
   "outputs": [
    {
     "name": "stdout",
     "output_type": "stream",
     "text": [
      "                   0                   1                   2   \\\n",
      "0   Spotsize(microns)     Photon Density      Photon Density    \n",
      "1                 2.0   12.43030284963063  11.816452647992278   \n",
      "2                 3.0   9.664804096134423    10.4583869577447   \n",
      "3                 4.0   11.72205584611253  11.143483364104485   \n",
      "4                 5.0  10.552372322542423  10.486219164176534   \n",
      "5                 6.0   9.972401397692893   10.10134804536336   \n",
      "6                 7.0  10.491404657383763  10.232447560109025   \n",
      "7                 8.0  10.564321659175503   9.905439849100713   \n",
      "8                 9.0  10.557238629708205   9.660989946015889   \n",
      "9                10.0  10.392676532562447   9.925152854098892   \n",
      "10               11.0  10.196822107887261  10.281265176396062   \n",
      "11               12.0  10.126010603053297  10.122754872037753   \n",
      "12               13.0  10.137890087714819  10.226736883365867   \n",
      "13               14.0   10.19653469674829   9.985521792940855   \n",
      "14               15.0  10.069352186576808   9.939548643076021   \n",
      "15               16.0   9.856668603840726   9.945958249724445   \n",
      "16               17.0   9.919789172719545   9.925271772007447   \n",
      "17               18.0   9.986919148775364  10.027793351134752   \n",
      "18               19.0  10.067935538358748  10.040001313319735   \n",
      "19               20.0   9.885901820158837   9.991308529131802   \n",
      "20               21.0   9.857707941976319   9.899960281938593   \n",
      "21               22.0   9.844187537819238   9.980627837045969   \n",
      "22               23.0    9.79646478364594    9.96717311259716   \n",
      "23               24.0   9.732891217483024   9.965270936820575   \n",
      "24               25.0   9.731085729941464   9.915409408942375   \n",
      "25               26.0   9.709549660544047  10.026702809619012   \n",
      "26               27.0   9.717134950183777   9.986175905301298   \n",
      "27               28.0   9.680781828095682   9.975984017454971   \n",
      "28               29.0   9.659418377315305   9.975250468126005   \n",
      "29               30.0   9.684539157822027   9.935217066950914   \n",
      "\n",
      "                    3                   4                   5   \\\n",
      "0      Photon Density      Photon Density      Photon Density    \n",
      "1   12.527209130068426  13.919678594096672   9.563233968789731   \n",
      "2   10.983490370630166  11.116113388085822   9.791635918725126   \n",
      "3   10.626608155155592  10.248062615966862   9.790926778656198   \n",
      "4    9.664166456033671   9.696926200436984   9.905751570601344   \n",
      "5    9.696101932712045   9.769898062913933  10.114760473454737   \n",
      "6   10.118730482576101  10.011881749399432  10.175312465658397   \n",
      "7   10.209928090817822   9.961510814454634  10.314887334837772   \n",
      "8   10.350443785582703   9.815458746737614   9.962826133528631   \n",
      "9   10.517865893045235   9.691962374382227  10.046289252427597   \n",
      "10  10.771542061393863   9.799758130443985   9.927500553192484   \n",
      "11   10.65834928937043   9.850846632599213   10.02405759887424   \n",
      "12  10.636120094093624  10.059682733101644   9.980297789638076   \n",
      "13  10.618661848446914   10.04884560209172   9.806620031192232   \n",
      "14   10.56198066228009  10.143794733236636    9.72787182337652   \n",
      "15  10.528476907430441  10.217417684847694   9.795809777461384   \n",
      "16  10.385693855125746  10.255081039336297   9.812044960008144   \n",
      "17  10.401636071319171  10.223184568098622   9.850278968344151   \n",
      "18  10.405792089673412  10.296402451223743   9.782032128915288   \n",
      "19  10.347269172842068  10.326746525896759    9.80607419082785   \n",
      "20  10.225993866807933  10.297976812122446     9.9204654007075   \n",
      "21  10.224801109577639  10.264794148699671   9.938268276906175   \n",
      "22  10.355237902918853  10.209512138666685   9.954069898426464   \n",
      "23   10.32991750281052  10.135356659048377   9.954447275915507   \n",
      "24  10.293304041328591  10.133463356616184    9.95172790845104   \n",
      "25  10.297317001360444  10.025254096437141   9.984399973687214   \n",
      "26  10.240522959363961  10.011909421188458   9.954194588123336   \n",
      "27  10.223770389169118  10.034700338015874   9.925241472440282   \n",
      "28    10.2306308017938  10.001047984398213   9.854586212130437   \n",
      "29   10.21836291817158  10.019381771801367     9.8937518245224   \n",
      "\n",
      "                    6                   7                   8   \\\n",
      "0      Photon Density      Photon Density      Photon Density    \n",
      "1   11.070079949590573  15.623121314831957   7.003696642053342   \n",
      "2    9.641937520830053  12.930322727451207   9.828634095346217   \n",
      "3   10.086504100013306  11.794281542387816  10.672239044581207   \n",
      "4     10.1213996947064  11.367032761291895  10.726902703369145   \n",
      "5   10.162947086871688   10.90761853602408  10.240209641790743   \n",
      "6   10.338180696208783  10.514640397964211  11.132851418369816   \n",
      "7   10.281084610407063  10.840316424881651  11.013144374226002   \n",
      "8    10.21787073819081  10.518425761424783  10.408672889371026   \n",
      "9   10.068570202766525  10.520337285562224  10.405577920138683   \n",
      "10   9.970615421335898  10.293351183958176  10.183307263074207   \n",
      "11  10.173911797493561  10.165203746618634  10.397793093699798   \n",
      "12   9.999724992733949  10.177155391399408  10.279145894557454   \n",
      "13  10.017177664412474  10.101796862171325  10.232208746208034   \n",
      "14   10.00181350939416  10.321384837270365  10.217583008184022   \n",
      "15   9.996684361383405  10.437202540754281   10.27927266037455   \n",
      "16   9.968606453376529  10.371847223282492  10.355426153947542   \n",
      "17   9.878288650523928  10.347655418778553   10.32209330678141   \n",
      "18   9.905043541755461  10.438347243526495   10.32221075119286   \n",
      "19  10.039087097841309  10.378238904319131  10.316043023368742   \n",
      "20   10.00725797953495  10.364426675148579   10.38828504129736   \n",
      "21    10.0120942255795  10.164710657056727  10.363540402458263   \n",
      "22   9.968872627311562  10.139885032871836  10.389039189879789   \n",
      "23   9.946003021089723  10.092260401740358   10.39099525501863   \n",
      "24   9.912126005942497  10.009483497672816   10.34879815089096   \n",
      "25   9.918892369122336   9.969179302606499  10.292784386307368   \n",
      "26   9.928523451127875   9.949753192290117  10.243514937775252   \n",
      "27   9.955822368231715    9.98700590823703  10.304847357883505   \n",
      "28   9.956123390933751   9.968816444149684  10.260063430302461   \n",
      "29    9.92290775210047   9.975944713099597  10.249466128741547   \n",
      "\n",
      "                    9                   10  \n",
      "0      Photon Density      Photon Density   \n",
      "1    9.495692272395969  10.013110145096887  \n",
      "2   10.360254736758167   10.62958124566633  \n",
      "3   10.603047445175598  10.621263135824176  \n",
      "4   10.790560408596253   9.843094732293219  \n",
      "5   10.412887924084334   9.955758372734042  \n",
      "6    10.32309221425053   10.01851686485745  \n",
      "7   10.340108558558947   10.31878523516224  \n",
      "8   10.267768134867651  10.188989939537842  \n",
      "9   10.417760078913414  10.262586215906166  \n",
      "10  10.647363365214034  10.185342526392446  \n",
      "11   10.49157899499498   10.35802984995936  \n",
      "12  10.366505205001017  10.299798553890154  \n",
      "13  10.360128553258091  10.125463517457765  \n",
      "14  10.333019227409366  10.337026500907974  \n",
      "15   10.40134000071871  10.312229358536813  \n",
      "16  10.250717767170416  10.273046332460073  \n",
      "17  10.241386033123694  10.243648529723083  \n",
      "18  10.124534122610665  10.247082222729805  \n",
      "19   10.19354112959604   9.999027870577985  \n",
      "20  10.250863145121544   9.888529225635478  \n",
      "21  10.258293523727865    9.83177100664303  \n",
      "22  10.270531960747933   9.848219344470653  \n",
      "23  10.214106817743861    9.88388131476879  \n",
      "24  10.189198446052508   9.836882070972768  \n",
      "25    10.1686337792407   9.779154770195978  \n",
      "26   10.12481250755094   9.776241338803937  \n",
      "27  10.133370118466082   9.752368796660328  \n",
      "28  10.065604256856316   9.713282443469447  \n",
      "29   9.998978965737882   9.693336408417084  \n"
     ]
    }
   ],
   "source": [
    "'''\n",
    "Reading the text files\n",
    "The final array p does not contain the Header files\n",
    "\n",
    "'''\n",
    "path=r\"C:\\Users\\Dupish\\Documents\\GitHub\\luxeics\\Photon_Density\\Large_Beam_Parameter_Run_Spotsize_1\\Photon_Density\"\n",
    "print(pd.read_csv(f'{path}.txt',header=None , sep=\"\\t\"))\n",
    "\n",
    "r=pd.read_csv(f'{path}.txt',header=0 , sep=\"\\t\")\n",
    "p=pd.DataFrame.to_numpy(r)\n"
   ]
  },
  {
   "cell_type": "code",
   "execution_count": 83,
   "id": "d5601b74",
   "metadata": {},
   "outputs": [
    {
     "name": "stdout",
     "output_type": "stream",
     "text": [
      "[[ 2.         12.43030285 11.81645265 12.52720913 13.91967859  9.56323397\n",
      "  11.07007995 15.62312131  7.00369664  9.49569227 10.01311015]\n",
      " [ 3.          9.6648041  10.45838696 10.98349037 11.11611339  9.79163592\n",
      "   9.64193752 12.93032273  9.8286341  10.36025474 10.62958125]\n",
      " [ 4.         11.72205585 11.14348336 10.62660816 10.24806262  9.79092678\n",
      "  10.0865041  11.79428154 10.67223904 10.60304745 10.62126314]\n",
      " [ 5.         10.55237232 10.48621916  9.66416646  9.6969262   9.90575157\n",
      "  10.12139969 11.36703276 10.7269027  10.79056041  9.84309473]\n",
      " [ 6.          9.9724014  10.10134805  9.69610193  9.76989806 10.11476047\n",
      "  10.16294709 10.90761854 10.24020964 10.41288792  9.95575837]\n",
      " [ 7.         10.49140466 10.23244756 10.11873048 10.01188175 10.17531247\n",
      "  10.3381807  10.5146404  11.13285142 10.32309221 10.01851686]\n",
      " [ 8.         10.56432166  9.90543985 10.20992809  9.96151081 10.31488733\n",
      "  10.28108461 10.84031642 11.01314437 10.34010856 10.31878524]\n",
      " [ 9.         10.55723863  9.66098995 10.35044379  9.81545875  9.96282613\n",
      "  10.21787074 10.51842576 10.40867289 10.26776813 10.18898994]\n",
      " [10.         10.39267653  9.92515285 10.51786589  9.69196237 10.04628925\n",
      "  10.0685702  10.52033729 10.40557792 10.41776008 10.26258622]\n",
      " [11.         10.19682211 10.28126518 10.77154206  9.79975813  9.92750055\n",
      "   9.97061542 10.29335118 10.18330726 10.64736337 10.18534253]\n",
      " [12.         10.1260106  10.12275487 10.65834929  9.85084663 10.0240576\n",
      "  10.1739118  10.16520375 10.39779309 10.49157899 10.35802985]\n",
      " [13.         10.13789009 10.22673688 10.63612009 10.05968273  9.98029779\n",
      "   9.99972499 10.17715539 10.27914589 10.36650521 10.29979855]\n",
      " [14.         10.1965347   9.98552179 10.61866185 10.0488456   9.80662003\n",
      "  10.01717766 10.10179686 10.23220875 10.36012855 10.12546352]\n",
      " [15.         10.06935219  9.93954864 10.56198066 10.14379473  9.72787182\n",
      "  10.00181351 10.32138484 10.21758301 10.33301923 10.3370265 ]\n",
      " [16.          9.8566686   9.94595825 10.52847691 10.21741768  9.79580978\n",
      "   9.99668436 10.43720254 10.27927266 10.40134    10.31222936]\n",
      " [17.          9.91978917  9.92527177 10.38569386 10.25508104  9.81204496\n",
      "   9.96860645 10.37184722 10.35542615 10.25071777 10.27304633]\n",
      " [18.          9.98691915 10.02779335 10.40163607 10.22318457  9.85027897\n",
      "   9.87828865 10.34765542 10.32209331 10.24138603 10.24364853]\n",
      " [19.         10.06793554 10.04000131 10.40579209 10.29640245  9.78203213\n",
      "   9.90504354 10.43834724 10.32221075 10.12453412 10.24708222]\n",
      " [20.          9.88590182  9.99130853 10.34726917 10.32674653  9.80607419\n",
      "  10.0390871  10.3782389  10.31604302 10.19354113  9.99902787]\n",
      " [21.          9.85770794  9.89996028 10.22599387 10.29797681  9.9204654\n",
      "  10.00725798 10.36442668 10.38828504 10.25086315  9.88852923]\n",
      " [22.          9.84418754  9.98062784 10.22480111 10.26479415  9.93826828\n",
      "  10.01209423 10.16471066 10.3635404  10.25829352  9.83177101]\n",
      " [23.          9.79646478  9.96717311 10.3552379  10.20951214  9.9540699\n",
      "   9.96887263 10.13988503 10.38903919 10.27053196  9.84821934]\n",
      " [24.          9.73289122  9.96527094 10.3299175  10.13535666  9.95444728\n",
      "   9.94600302 10.0922604  10.39099526 10.21410682  9.88388131]\n",
      " [25.          9.73108573  9.91540941 10.29330404 10.13346336  9.95172791\n",
      "   9.91212601 10.0094835  10.34879815 10.18919845  9.83688207]\n",
      " [26.          9.70954966 10.02670281 10.297317   10.0252541   9.98439997\n",
      "   9.91889237  9.9691793  10.29278439 10.16863378  9.77915477]\n",
      " [27.          9.71713495  9.98617591 10.24052296 10.01190942  9.95419459\n",
      "   9.92852345  9.94975319 10.24351494 10.12481251  9.77624134]\n",
      " [28.          9.68078183  9.97598402 10.22377039 10.03470034  9.92524147\n",
      "   9.95582237  9.98700591 10.30484736 10.13337012  9.7523688 ]\n",
      " [29.          9.65941838  9.97525047 10.2306308  10.00104798  9.85458621\n",
      "   9.95612339  9.96881644 10.26006343 10.06560426  9.71328244]\n",
      " [30.          9.68453916  9.93521707 10.21836292 10.01938177  9.89375182\n",
      "   9.92290775  9.97594471 10.24946613  9.99897897  9.69333641]]\n"
     ]
    }
   ],
   "source": [
    "print(p)"
   ]
  },
  {
   "cell_type": "code",
   "execution_count": 86,
   "id": "659568af",
   "metadata": {},
   "outputs": [
    {
     "data": {
      "image/png": "[encoded data removed]",
      "text/plain": [
       "<Figure size 432x288 with 1 Axes>"
      ]
     },
     "metadata": {
      "needs_background": "light"
     },
     "output_type": "display_data"
    }
   ],
   "source": [
    "\n",
    "import os\n",
    "Pd_Mean=np.ones(n)\n",
    "\n",
    "Pd_STD=np.ones(n)\n",
    "Pd=p[:,1:10]\n",
    "for i in range(n):\n",
    "\n",
    "    Pd_Mean[i]=np.mean(Pd[i,:])\n",
    "    Pd_STD[i]=np.std(Pd[i,:])\n",
    "    \n",
    "    \n",
    "plt.plot(spotsize,Pd_Mean,label=f'sigmaT:{SigmaT} microns')\n",
    "plt.errorbar(spotsize,Pd_Mean,Pd_STD, linestyle='None', marker='.',label='St. Deviation')\n",
    "plt.xlabel('spotsize [microns]')\n",
    "plt.ylabel('Photon Density [microns^(-2)]')\n",
    "plt.title('Finite Source Size')\n",
    "plt.legend()\n",
    "path=os.getcwd()\n",
    "plt.savefig(f'{path}\\PhotonDensity_vs_spotsize_Finite.png',dpi=200)"
   ]
  },
  {
   "cell_type": "code",
   "execution_count": null,
   "id": "15dcbe6b",
   "metadata": {},
   "outputs": [],
   "source": []
  }
 ],
 "metadata": {
  "kernelspec": {
   "display_name": "Python 3",
   "language": "python",
   "name": "python3"
  },
  "language_info": {
   "codemirror_mode": {
    "name": "ipython",
    "version": 3
   },
   "file_extension": ".py",
   "mimetype": "text/x-python",
   "name": "python",
   "nbconvert_exporter": "python",
   "pygments_lexer": "ipython3",
   "version": "3.8.8"
  }
 },
 "nbformat": 4,
 "nbformat_minor": 5
}
