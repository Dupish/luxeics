{
 "cells": [
  {
   "cell_type": "code",
   "execution_count": 1,
   "id": "6528a778",
   "metadata": {},
   "outputs": [
    {
     "name": "stdout",
     "output_type": "stream",
     "text": [
      "initial list  [[1, 2, 3], [3, 6, 7], [7, 5, 4]]\n",
      "final_result [1, 2, 3, 3, 6, 7, 7, 5, 4]\n"
     ]
    }
   ],
   "source": [
    "# Python code to demonstrate\n",
    "# converting 2d list into 1d list\n",
    "# using chain.from_iterables\n",
    " \n",
    "# import chain\n",
    "from itertools import chain\n",
    " \n",
    "ini_list = [[1, 2], [3,4]],\n",
    "            [3, 6, 7]]\n",
    "             \n",
    "# printing initial list\n",
    "print (\"initial list \", str(ini_list))\n",
    " \n",
    "# converting 2d list into 1d\n",
    "# using chain.from_iterables\n",
    "flatten_list = list(chain.from_iterable(ini_list))\n",
    " \n",
    "# printing flatten_list\n",
    "print (\"final_result\", str(flatten_list))\n"
   ]
  },
  {
   "cell_type": "code",
   "execution_count": null,
   "id": "8ae16e61",
   "metadata": {},
   "outputs": [],
   "source": []
  }
 ],
 "metadata": {
  "kernelspec": {
   "display_name": "Python 3",
   "language": "python",
   "name": "python3"
  },
  "language_info": {
   "codemirror_mode": {
    "name": "ipython",
    "version": 3
   },
   "file_extension": ".py",
   "mimetype": "text/x-python",
   "name": "python",
   "nbconvert_exporter": "python",
   "pygments_lexer": "ipython3",
   "version": "3.8.8"
  }
 },
 "nbformat": 4,
 "nbformat_minor": 5
}
