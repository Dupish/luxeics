{
 "cells": [
  {
   "cell_type": "code",
   "execution_count": 9,
   "id": "48b468b8",
   "metadata": {},
   "outputs": [
    {
     "name": "stdout",
     "output_type": "stream",
     "text": [
      "                     0       1\n",
      "0      Photon Density   SigmaT\n",
      "1    6.760888605490019     5.0\n",
      "2    8.674694059555303    10.0\n",
      "3       9.914107043013    15.0\n",
      "4   10.957573883227775    20.0\n",
      "5    10.34035501049034    25.0\n",
      "6   10.104797943876578    30.0\n",
      "7   10.823817163695187    35.0\n",
      "8    9.654699226684581    40.0\n",
      "9    10.13342005734654    45.0\n",
      "10  10.244212636028138    50.0\n"
     ]
    }
   ],
   "source": [
    "'''\n",
    "Reading the text files\n",
    "The final array p does not contain the Header files\n",
    "\n",
    "'''\n",
    "import pandas as pd\n",
    "path=r\"C:\\Users\\Dupish\\Documents\\GitHub\\luxeics\\Photon_Density\\Sigma_W0_Parameter_Run_8_10\\Photon_Density_Spotsize10.txt\"\n",
    "print(pd.read_csv(path,header=None , sep=\"\\t\"))\n",
    "\n",
    "r=pd.read_csv(f'{path}',header=0 , sep=\"\\t\")\n",
    "Pd_SigmaT_w0_10=pd.DataFrame.to_numpy(r)"
   ]
  },
  {
   "cell_type": "code",
   "execution_count": 10,
   "id": "8b80e00d",
   "metadata": {},
   "outputs": [
    {
     "name": "stdout",
     "output_type": "stream",
     "text": [
      "                     0       1\n",
      "0      Photon Density   SigmaT\n",
      "1     7.99673378017644     5.0\n",
      "2    8.025713803318935    10.0\n",
      "3    8.467790836378658    15.0\n",
      "4   11.351240501824186    20.0\n",
      "5   12.106779430855031    25.0\n",
      "6   11.435265533897523    30.0\n",
      "7    9.909123839018234    35.0\n",
      "8    8.678585716272119    40.0\n",
      "9    9.677191180567688    45.0\n",
      "10   10.83402773631134    50.0\n"
     ]
    }
   ],
   "source": [
    "'''\n",
    "Reading the text files\n",
    "The final array p does not contain the Header files\n",
    "\n",
    "'''\n",
    "import pandas as pd\n",
    "path=r\"C:\\Users\\Dupish\\Documents\\GitHub\\luxeics\\Photon_Density\\Sigma_W0_Parameter_Run_8_10\\Photon_Density_Spotsize3.txt\"\n",
    "print(pd.read_csv(path,header=None , sep=\"\\t\"))\n",
    "\n",
    "r=pd.read_csv(f'{path}',header=0 , sep=\"\\t\")\n",
    "Pd_SigmaT_w0_3=pd.DataFrame.to_numpy(r)"
   ]
  },
  {
   "cell_type": "code",
   "execution_count": 11,
   "id": "b030dbc4",
   "metadata": {},
   "outputs": [
    {
     "name": "stdout",
     "output_type": "stream",
     "text": [
      "                      0       1    2\n",
      "0       Photon Density   SigmaT  IDK\n",
      "1      7.99673378017644     5.0  0.0\n",
      "2    2.3857494220913247    10.0  0.0\n",
      "3    1.6717391596355902    15.0  0.0\n",
      "4   0.47393886023762766    20.0  0.0\n",
      "5    0.7290948648489659    25.0  0.0\n",
      "6    0.2897461268385033    30.0  0.0\n",
      "7   0.14382581785404272    35.0  0.0\n",
      "8   0.14770198273399832    40.0  0.0\n",
      "9     0.423856015433656    45.0  0.0\n",
      "10   0.5440921226663785    50.0  0.0\n"
     ]
    }
   ],
   "source": [
    "'''\n",
    "Reading the text files\n",
    "The final array p does not contain the Header files\n",
    "\n",
    "'''\n",
    "import pandas as pd\n",
    "path=r\"C:\\Users\\Dupish\\Documents\\GitHub\\luxeics\\Photon_Density\\Sigma_Parameter_Run_8_10\\Photon_Density_Spotsize3.txt\"\n",
    "print(pd.read_csv(path,header=None , sep=\"\\t\"))\n",
    "\n",
    "r=pd.read_csv(f'{path}',header=0 , sep=\"\\t\")\n",
    "Pd_SigmaT_3=pd.DataFrame.to_numpy(r)"
   ]
  },
  {
   "cell_type": "code",
   "execution_count": 12,
   "id": "1266a190",
   "metadata": {},
   "outputs": [
    {
     "name": "stdout",
     "output_type": "stream",
     "text": [
      "                      0       1                  2\n",
      "0       Photon Density   SigmaT        Energy(GeV)\n",
      "1     6.760888605490019     5.0  7337.505167660837\n",
      "2      3.12895360742354    10.0  7337.505167660837\n",
      "3    1.3764789293674478    15.0  7337.505167660837\n",
      "4    0.8641231575300403    20.0  7337.505167660837\n",
      "5   0.45304175265337465    25.0  7337.505167660837\n",
      "6   0.25686575285185503    30.0  7337.505167660837\n",
      "7    0.2435784143884574    35.0  7337.505167660837\n",
      "8    0.2255161450720931    40.0  7337.505167660837\n",
      "9    0.2141494152938132    45.0  7337.505167660837\n",
      "10  0.21101098356407968    50.0  7337.505167660837\n"
     ]
    }
   ],
   "source": [
    "\n",
    "'''\n",
    "Reading the text files\n",
    "The final array p does not contain the Header files\n",
    "\n",
    "'''\n",
    "import pandas as pd\n",
    "path=r\"C:\\Users\\Dupish\\Documents\\GitHub\\luxeics\\Photon_Density\\Sigma_Parameter_Run_8_10\\Photon_Density_Spotsize10.txt\"\n",
    "print(pd.read_csv(path,header=None , sep=\"\\t\"))\n",
    "\n",
    "r=pd.read_csv(f'{path}',header=0 , sep=\"\\t\")\n",
    "Pd_SigmaT_10=pd.DataFrame.to_numpy(r)"
   ]
  },
  {
   "cell_type": "code",
   "execution_count": 19,
   "id": "3ee9115e",
   "metadata": {},
   "outputs": [
    {
     "name": "stdout",
     "output_type": "stream",
     "text": [
      "                      0       1                  2\n",
      "0       Photon Density   SigmaT        Energy(GeV)\n",
      "1      7.99673378017644     5.0  73375051.67660837\n",
      "2    2.2932395900386364    10.0  73375051.67660837\n",
      "3     1.018585265885353    15.0  73375051.67660835\n",
      "4    0.7565141294317341    20.0  73375051.67660837\n",
      "5   0.30296820116612344    25.0  73375051.67660834\n",
      "6    0.2471882309964662    30.0  73375051.67660835\n",
      "7   0.21349106792142566    35.0  73375051.67660835\n",
      "8   0.15527858916711276    40.0  73375051.67660837\n",
      "9   0.15344289404708944    45.0  73375051.67660835\n",
      "10    0.108532286755352    50.0  73375051.67660834\n"
     ]
    }
   ],
   "source": [
    "\n",
    "'''\n",
    "Reading the text files\n",
    "The final array p does not contain the Header files\n",
    "\n",
    "'''\n",
    "import pandas as pd\n",
    "path=r\"C:\\Users\\Dupish\\Documents\\GitHub\\luxeics\\Photon_Density\\Energy_Conserved_Para_Run_18_10_21\\Photon_Density_Spotsize3.txt\"\n",
    "print(pd.read_csv(path,header=None , sep=\"\\t\"))\n",
    "\n",
    "r=pd.read_csv(f'{path}',header=0 , sep=\"\\t\")\n",
    "Pd_E_Conserved_3=pd.DataFrame.to_numpy(r)"
   ]
  },
  {
   "cell_type": "code",
   "execution_count": 20,
   "id": "10c77f50",
   "metadata": {},
   "outputs": [
    {
     "name": "stdout",
     "output_type": "stream",
     "text": [
      "                      0       1                  2\n",
      "0       Photon Density   SigmaT        Energy(GeV)\n",
      "1     6.760888605490019     5.0  73375051.67660837\n",
      "2    2.3133916776956363    10.0  73375051.67660837\n",
      "3     1.050837454400772    15.0  73375051.67660835\n",
      "4    0.6218031164240194    20.0  73375051.67660837\n",
      "5    0.3895284288137397    25.0  73375051.67660834\n",
      "6   0.29760328516592205    30.0  73375051.67660835\n",
      "7   0.19459477011814963    35.0  73375051.67660835\n",
      "8    0.1530622831450739    40.0  73375051.67660837\n",
      "9    0.1286329714474133    45.0  73375051.67660835\n",
      "10  0.10347990711100867    50.0  73375051.67660834\n"
     ]
    }
   ],
   "source": [
    "\n",
    "'''\n",
    "Reading the text files\n",
    "The final array p does not contain the Header files\n",
    "\n",
    "'''\n",
    "import pandas as pd\n",
    "path=r\"C:\\Users\\Dupish\\Documents\\GitHub\\luxeics\\Photon_Density\\Energy_Conserved_Para_Run_18_10_21\\Photon_Density_Spotsize10.txt\"\n",
    "print(pd.read_csv(path,header=None , sep=\"\\t\"))\n",
    "\n",
    "r=pd.read_csv(f'{path}',header=0 , sep=\"\\t\")\n",
    "Pd_E_Conserved_10=pd.DataFrame.to_numpy(r)"
   ]
  },
  {
   "cell_type": "code",
   "execution_count": 30,
   "id": "96de333a",
   "metadata": {
    "scrolled": false
   },
   "outputs": [
    {
     "data": {
      "image/png": "[encoded data removed]",
      "text/plain": [
       "<Figure size 432x288 with 1 Axes>"
      ]
     },
     "metadata": {
      "needs_background": "light"
     },
     "output_type": "display_data"
    }
   ],
   "source": [
    "import matplotlib.pyplot as plt\n",
    "import os\n",
    "plt.plot(Pd_SigmaT_3[:,1],Pd_SigmaT_3[:,0],label='$w_0$ = 5  microns ',c='b')\n",
    "\n",
    "plt.plot(Pd_SigmaT_w0_3[:,1],Pd_SigmaT_w0_3[:,0],label='$w_0$ = $\\sigma_T$',c='r')\n",
    "\n",
    "plt.plot(Pd_E_Conserved_3[:,1],Pd_E_Conserved_3[:,0],label='$w_0$ = $\\sigma_T$, Energy Constant',c='g')\n",
    "\n",
    "\n",
    "\n",
    "plt.plot(Pd_SigmaT_10[:,1],Pd_SigmaT_10[:,0],'--',c='b')\n",
    "\n",
    "plt.plot(Pd_SigmaT_w0_10[:,1],Pd_SigmaT_w0_10[:,0],'--',c='r')\n",
    "\n",
    "plt.plot(Pd_E_Conserved_10[:,1],Pd_E_Conserved_10[:,0],'--',c='g')\n",
    "\n",
    "\n",
    "\n",
    "\n",
    "\n",
    "plt.xlabel(r'Electron Beam Size $\\sigma_T$ (micron) ')\n",
    "plt.ylabel(r'Photon Areal Density (microns$^{-2}$)')\n",
    "# plt.yscale('log')\n",
    "# plt.xscale('log')\n",
    "plt.title(f' Log vs Log Scale Spotsize:3 microns (-), Spotsize:10 microns (--) ')\n",
    "plt.legend()\n",
    "\n",
    "\n",
    "path=f'{os.getcwd()}{os.sep}Photon_Density'\n",
    "plt.savefig(f'{path}\\Linear Scale .png',dpi=200)\n",
    "\n"
   ]
  },
  {
   "cell_type": "code",
   "execution_count": null,
   "id": "52a98c51",
   "metadata": {},
   "outputs": [],
   "source": [
    "plt.xscale('log')\n",
    "plt.yscale('log')"
   ]
  },
  {
   "cell_type": "code",
   "execution_count": null,
   "id": "5a18f4e5",
   "metadata": {},
   "outputs": [],
   "source": []
  },
  {
   "cell_type": "code",
   "execution_count": null,
   "id": "54f99440",
   "metadata": {},
   "outputs": [],
   "source": []
  },
  {
   "cell_type": "code",
   "execution_count": 5,
   "id": "49d4c8c5",
   "metadata": {},
   "outputs": [
    {
     "name": "stdout",
     "output_type": "stream",
     "text": [
      "C:/Users/Dupish/Documents/GitHub/luxeics/Photon_Density/Sigma_Parameter_Run_8_10/Photon_Density_Spotsize10.txt\n",
      "                      0       1                  2\n",
      "0       Photon Density   SigmaT        Energy(GeV)\n",
      "1     6.760888605490019     5.0  7337.505167660837\n",
      "2      3.12895360742354    10.0  7337.505167660837\n",
      "3    1.3764789293674478    15.0  7337.505167660837\n",
      "4    0.8641231575300403    20.0  7337.505167660837\n",
      "5   0.45304175265337465    25.0  7337.505167660837\n",
      "6   0.25686575285185503    30.0  7337.505167660837\n",
      "7    0.2435784143884574    35.0  7337.505167660837\n",
      "8    0.2255161450720931    40.0  7337.505167660837\n",
      "9    0.2141494152938132    45.0  7337.505167660837\n",
      "10  0.21101098356407968    50.0  7337.505167660837\n"
     ]
    }
   ],
   "source": [
    "path = fd.askopenfilename(title='Choose File to Plot',filetype=[('text files', '*.txt')])\n",
    "print(path)\n",
    "\n",
    "print(pd.read_csv(path,header=None , sep=\"\\t\"))\n",
    "\n",
    "r=pd.read_csv(f'{path}',header=0 , sep=\"\\t\")\n",
    "Pd_SigmaT_10=pd.DataFrame.to_numpy(r)"
   ]
  },
  {
   "cell_type": "code",
   "execution_count": 4,
   "id": "ebc894bc",
   "metadata": {},
   "outputs": [
    {
     "name": "stdout",
     "output_type": "stream",
     "text": [
      "C:/Users/Dupish/Documents/GitHub/luxeics/Photon_Density/Sigma_Parameter_Run_8_10/Photon_Density_Spotsize3.txt\n",
      "                      0       1    2\n",
      "0       Photon Density   SigmaT  IDK\n",
      "1      7.99673378017644     5.0  0.0\n",
      "2    2.3857494220913247    10.0  0.0\n",
      "3    1.6717391596355902    15.0  0.0\n",
      "4   0.47393886023762766    20.0  0.0\n",
      "5    0.7290948648489659    25.0  0.0\n",
      "6    0.2897461268385033    30.0  0.0\n",
      "7   0.14382581785404272    35.0  0.0\n",
      "8   0.14770198273399832    40.0  0.0\n",
      "9     0.423856015433656    45.0  0.0\n",
      "10   0.5440921226663785    50.0  0.0\n"
     ]
    }
   ],
   "source": [
    "path = fd.askopenfilename(title='Choose File to Plot',filetype=[('text files', '*.txt')])\n",
    "print(path)\n",
    "\n",
    "print(pd.read_csv(path,header=None , sep=\"\\t\"))\n",
    "\n",
    "r=pd.read_csv(f'{path}',header=0 , sep=\"\\t\")\n",
    "Pd_SigmaT_3=pd.DataFrame.to_numpy(r)"
   ]
  },
  {
   "cell_type": "code",
   "execution_count": 6,
   "id": "733b36c9",
   "metadata": {},
   "outputs": [
    {
     "name": "stdout",
     "output_type": "stream",
     "text": [
      "C:/Users/Dupish/Documents/GitHub/luxeics/Photon_Density/Sigma_W0_Parameter_Run_8_10/Photon_Density_Spotsize3.txt\n",
      "                     0       1\n",
      "0      Photon Density   SigmaT\n",
      "1     7.99673378017644     5.0\n",
      "2    8.025713803318935    10.0\n",
      "3    8.467790836378658    15.0\n",
      "4   11.351240501824186    20.0\n",
      "5   12.106779430855031    25.0\n",
      "6   11.435265533897523    30.0\n",
      "7    9.909123839018234    35.0\n",
      "8    8.678585716272119    40.0\n",
      "9    9.677191180567688    45.0\n",
      "10   10.83402773631134    50.0\n"
     ]
    }
   ],
   "source": [
    "path = fd.askopenfilename(title='Choose File to Plot',filetype=[('text files', '*.txt')])\n",
    "print(path)\n",
    "\n",
    "print(pd.read_csv(path,header=None , sep=\"\\t\"))\n",
    "\n",
    "r=pd.read_csv(f'{path}',header=0 , sep=\"\\t\")\n",
    "Pd_SigmaT_w0_3=pd.DataFrame.to_numpy(r)"
   ]
  },
  {
   "cell_type": "code",
   "execution_count": 2,
   "id": "a858b219",
   "metadata": {},
   "outputs": [],
   "source": [
    "from tkinter import filedialog as fd\n",
    "import tkinter as tk\n",
    "import pandas as pd"
   ]
  },
  {
   "cell_type": "code",
   "execution_count": 7,
   "id": "0766fc1d",
   "metadata": {},
   "outputs": [
    {
     "name": "stdout",
     "output_type": "stream",
     "text": [
      "C:/Users/Dupish/Documents/GitHub/luxeics/Photon_Density/Sigma_W0_Parameter_Run_8_10/Photon_Density_Spotsize10.txt\n",
      "                     0       1\n",
      "0      Photon Density   SigmaT\n",
      "1    6.760888605490019     5.0\n",
      "2    8.674694059555303    10.0\n",
      "3       9.914107043013    15.0\n",
      "4   10.957573883227775    20.0\n",
      "5    10.34035501049034    25.0\n",
      "6   10.104797943876578    30.0\n",
      "7   10.823817163695187    35.0\n",
      "8    9.654699226684581    40.0\n",
      "9    10.13342005734654    45.0\n",
      "10  10.244212636028138    50.0\n"
     ]
    }
   ],
   "source": [
    "path = fd.askopenfilename(title='Choose File to Plot',filetype=[('text files', '*.txt')])\n",
    "print(path)\n",
    "\n",
    "print(pd.read_csv(path,header=None , sep=\"\\t\"))\n",
    "\n",
    "r=pd.read_csv(f'{path}',header=0 , sep=\"\\t\")\n",
    "Pd_SigmaT_w0_10=pd.DataFrame.to_numpy(r)"
   ]
  },
  {
   "cell_type": "code",
   "execution_count": null,
   "id": "cd7aad44",
   "metadata": {},
   "outputs": [],
   "source": []
  },
  {
   "cell_type": "code",
   "execution_count": null,
   "id": "174db02c",
   "metadata": {},
   "outputs": [],
   "source": []
  }
 ],
 "metadata": {
  "kernelspec": {
   "display_name": "Python 3",
   "language": "python",
   "name": "python3"
  },
  "language_info": {
   "codemirror_mode": {
    "name": "ipython",
    "version": 3
   },
   "file_extension": ".py",
   "mimetype": "text/x-python",
   "name": "python",
   "nbconvert_exporter": "python",
   "pygments_lexer": "ipython3",
   "version": "3.8.8"
  }
 },
 "nbformat": 4,
 "nbformat_minor": 5
}
