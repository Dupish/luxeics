{
 "cells": [
  {
   "cell_type": "code",
   "execution_count": 1,
   "id": "9d047eb8",
   "metadata": {},
   "outputs": [
    {
     "name": "stdout",
     "output_type": "stream",
     "text": [
      "[(1, 1), (1, 2), (3, 3)]\n",
      "[(3, 3), (1, 2), (1, 1)]\n"
     ]
    }
   ],
   "source": [
    "# Python program to demonstrate sorting by user's\n",
    "# choice\n",
    "  \n",
    "# function to return the second element of the\n",
    "# two elements passed as the parameter\n",
    "def sortSecond(val):\n",
    "    return val[1] \n",
    "  \n",
    "# list1 to demonstrate the use of sorting \n",
    "# using using second key \n",
    "list1 = [(1, 2), (3, 3), (1, 1)]\n",
    "  \n",
    "# sorts the array in ascending according to \n",
    "# second element\n",
    "list1.sort(key = sortSecond) \n",
    "print(list1)\n",
    "  \n",
    "# sorts the array in descending according to\n",
    "# second element\n",
    "list1.sort(key = sortSecond, reverse = True)\n",
    "print(list1)\n"
   ]
  },
  {
   "cell_type": "code",
   "execution_count": null,
   "id": "b38ed0a5",
   "metadata": {},
   "outputs": [],
   "source": []
  }
 ],
 "metadata": {
  "kernelspec": {
   "display_name": "Python 3",
   "language": "python",
   "name": "python3"
  },
  "language_info": {
   "codemirror_mode": {
    "name": "ipython",
    "version": 3
   },
   "file_extension": ".py",
   "mimetype": "text/x-python",
   "name": "python",
   "nbconvert_exporter": "python",
   "pygments_lexer": "ipython3",
   "version": "3.8.8"
  }
 },
 "nbformat": 4,
 "nbformat_minor": 5
}
