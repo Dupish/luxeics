{
 "cells": [
  {
   "cell_type": "code",
   "execution_count": 1,
   "id": "37478ef0",
   "metadata": {},
   "outputs": [],
   "source": [
    "from tkinter import *\n",
    "from tkinter import filedialog\n",
    "root = Tk()\n",
    "def open():\n",
    "    root.filename = filedialog.askopenfilename(title= 'Select a File')\n",
    "    root.mainloop()   \n",
    "    return(root.filename)"
   ]
  },
  {
   "cell_type": "code",
   "execution_count": 2,
   "id": "48b468b8",
   "metadata": {},
   "outputs": [
    {
     "name": "stdout",
     "output_type": "stream",
     "text": [
      "C:/Users/Dupish/Documents/luxeics_1/Photon_Density/Energy_Conserved_Sigma_Paramter_Run1/Photon_Density_Spotsize3.txt\n",
      "                     0       1            2\n",
      "0      Photon Density   SigmaT   Energy(mJ)\n",
      "1     68.9833704491462     5.0  100.0080756\n",
      "2    46.58854400172971     6.0  100.0080756\n",
      "3    35.86997119729867     7.0  100.0080756\n",
      "4   26.839313488055733     8.0  100.0080756\n",
      "5    21.57473747048962     9.0  100.0080756\n",
      "6    32.61336713986328    10.0  100.0080756\n",
      "7   27.395208283779123    11.0  100.0080756\n",
      "8   14.482850671876772    12.0  100.0080756\n",
      "9    22.42605272884378    13.0  100.0080756\n",
      "10  10.464105643124853    14.0  100.0080756\n",
      "11  14.118254798268955    15.0  100.0080756\n",
      "12   5.775189004653805    16.0  100.0080756\n",
      "13   7.167546768012234    17.0  100.0080756\n",
      "14  12.550292755297127    18.0  100.0080756\n",
      "15   12.61451807430682    19.0  100.0080756\n",
      "16    9.19186104075157    20.0  100.0080756\n"
     ]
    }
   ],
   "source": [
    "'''\n",
    "Reading the text files\n",
    "The final array p does not contain the Header files\n",
    "\n",
    "'''\n",
    "import pandas as pd\n",
    "path=open()\n",
    "print(path)\n",
    "print(pd.read_csv(path,header=None , sep=\"\\t\"))\n",
    "\n",
    "r=pd.read_csv(f'{path}',header=0 , sep=\"\\t\")\n",
    "Pd_3_V_1=pd.DataFrame.to_numpy(r)"
   ]
  },
  {
   "cell_type": "code",
   "execution_count": 3,
   "id": "8b80e00d",
   "metadata": {},
   "outputs": [
    {
     "name": "stdout",
     "output_type": "stream",
     "text": [
      "C:/Users/Dupish/Documents/GitHub/luxeics/Photon_Density/Check/Photon_Density_Spotsize3.txt\n",
      "                     0       1            2\n",
      "0      Photon Density   SigmaT   Energy(mJ)\n",
      "1   56.345717915565274     5.0  100.0080756\n",
      "2    50.84270000053242     6.0  100.0080756\n",
      "3    47.27419404932364     7.0  100.0080756\n",
      "4   31.501643614798358     8.0  100.0080756\n",
      "5   15.953326806454251     9.0  100.0080756\n",
      "6    26.94740472996462    10.0  100.0080756\n",
      "7   23.908616126541933    11.0  100.0080756\n",
      "8    21.08882541807249    12.0  100.0080756\n",
      "9    7.430479757192281    13.0  100.0080756\n",
      "10  13.290086719795687    14.0  100.0080756\n",
      "11   23.35828286442246    15.0  100.0080756\n",
      "12  12.652820233529027    16.0  100.0080756\n",
      "13   5.672395223565662    17.0  100.0080756\n",
      "14    9.60760168928735    18.0  100.0080756\n",
      "15  11.299371467176641    19.0  100.0080756\n",
      "16   8.031090353784501    20.0  100.0080756\n"
     ]
    }
   ],
   "source": [
    "'''\n",
    "Reading the text files\n",
    "The final array p does not contain the Header files\n",
    "\n",
    "'''\n",
    "import pandas as pd\n",
    "path=open()\n",
    "print(path)\n",
    "print(pd.read_csv(path,header=None , sep=\"\\t\"))\n",
    "\n",
    "r=pd.read_csv(f'{path}',header=0 , sep=\"\\t\")\n",
    "Pd_3_V_2=pd.DataFrame.to_numpy(r)"
   ]
  },
  {
   "cell_type": "code",
   "execution_count": 4,
   "id": "b030dbc4",
   "metadata": {},
   "outputs": [
    {
     "name": "stdout",
     "output_type": "stream",
     "text": [
      "C:/Users/Dupish/Documents/luxeics_1/Photon_Density/Energy_Conserved_Sigma_Paramter_Run1/Photon_Density_Spotsize10.txt\n",
      "                     0       1            2\n",
      "0      Photon Density   SigmaT   Energy(mJ)\n",
      "1    66.80625358889108     5.0  100.0080756\n",
      "2    52.18598332264338     6.0  100.0080756\n",
      "3    39.68899509610844     7.0  100.0080756\n",
      "4   33.608010929777436     8.0  100.0080756\n",
      "5   28.151336330254825     9.0  100.0080756\n",
      "6    26.07302104102739    10.0  100.0080756\n",
      "7   21.948245790856845    11.0  100.0080756\n",
      "8   18.575592309780205    12.0  100.0080756\n",
      "9   17.774374237335905    13.0  100.0080756\n",
      "10   12.69399230111526    14.0  100.0080756\n",
      "11  11.664625545854735    15.0  100.0080756\n",
      "12   8.981628335966496    16.0  100.0080756\n",
      "13   9.756591925421317    17.0  100.0080756\n",
      "14   7.476894465740263    18.0  100.0080756\n",
      "15    8.00620888806494    19.0  100.0080756\n",
      "16   6.839108695738018    20.0  100.0080756\n"
     ]
    }
   ],
   "source": [
    "'''\n",
    "Reading the text files\n",
    "The final array p does not contain the Header files\n",
    "\n",
    "'''\n",
    "import pandas as pd\n",
    "path=open()\n",
    "print(path)\n",
    "print(pd.read_csv(path,header=None , sep=\"\\t\"))\n",
    "\n",
    "r=pd.read_csv(f'{path}',header=0 , sep=\"\\t\")\n",
    "Pd_10_V_1=pd.DataFrame.to_numpy(r)"
   ]
  },
  {
   "cell_type": "code",
   "execution_count": 5,
   "id": "1266a190",
   "metadata": {},
   "outputs": [
    {
     "name": "stdout",
     "output_type": "stream",
     "text": [
      "C:/Users/Dupish/Documents/GitHub/luxeics/Photon_Density/Check/Photon_Density_Spotsize10.txt\n",
      "                     0       1            2\n",
      "0      Photon Density   SigmaT   Energy(mJ)\n",
      "1    60.09051798249141     5.0  100.0080756\n",
      "2    53.68258276258067     6.0  100.0080756\n",
      "3   44.859142841268145     7.0  100.0080756\n",
      "4    33.41312630152489     8.0  100.0080756\n",
      "5   30.277832350133497     9.0  100.0080756\n",
      "6    24.36525892688047    10.0  100.0080756\n",
      "7    20.04638224690709    11.0  100.0080756\n",
      "8   18.012485695983866    12.0  100.0080756\n",
      "9   13.531527164113236    13.0  100.0080756\n",
      "10  13.348688238398935    14.0  100.0080756\n",
      "11  13.250084073185658    15.0  100.0080756\n",
      "12  10.457944668514164    16.0  100.0080756\n",
      "13     9.2405990897382    17.0  100.0080756\n",
      "14   8.692969259284249    18.0  100.0080756\n",
      "15   6.950472919001231    19.0  100.0080756\n",
      "16   6.721969474721303    20.0  100.0080756\n"
     ]
    }
   ],
   "source": [
    "\n",
    "'''\n",
    "Reading the text files\n",
    "The final array p does not contain the Header files\n",
    "\n",
    "'''\n",
    "import pandas as pd\n",
    "path=open()\n",
    "print(path)\n",
    "print(pd.read_csv(path,header=None , sep=\"\\t\"))\n",
    "\n",
    "r=pd.read_csv(f'{path}',header=0 , sep=\"\\t\")\n",
    "Pd_10_V_2=pd.DataFrame.to_numpy(r)"
   ]
  },
  {
   "cell_type": "code",
   "execution_count": 27,
   "id": "3ee9115e",
   "metadata": {},
   "outputs": [],
   "source": [
    "\n",
    "# '''\n",
    "# Reading the text files\n",
    "# The final array p does not contain the Header files\n",
    "\n",
    "# '''\n",
    "# import pandas as pd\n",
    "# path=r\"C:\\Users\\Dupish\\Documents\\GitHub\\luxeics\\Photon_Density\\Energy_Conserved_Para_Run_18_10_21\\Photon_Density_Spotsize3.txt\"\n",
    "# print(pd.read_csv(path,header=None , sep=\"\\t\"))\n",
    "\n",
    "# r=pd.read_csv(f'{path}',header=0 , sep=\"\\t\")\n",
    "# Pd_E_Conserved_3=pd.DataFrame.to_numpy(r)"
   ]
  },
  {
   "cell_type": "code",
   "execution_count": 28,
   "id": "10c77f50",
   "metadata": {},
   "outputs": [],
   "source": [
    "\n",
    "# '''\n",
    "# Reading the text files\n",
    "# The final array p does not contain the Header files\n",
    "\n",
    "# '''\n",
    "# import pandas as pd\n",
    "# path=r\"C:\\Users\\Dupish\\Documents\\GitHub\\luxeics\\Photon_Density\\Energy_Conserved_Para_Run_18_10_21\\Photon_Density_Spotsize10.txt\"\n",
    "# print(pd.read_csv(path,header=None , sep=\"\\t\"))\n",
    "\n",
    "# r=pd.read_csv(f'{path}',header=0 , sep=\"\\t\")\n",
    "# Pd_E_Conserved_10=pd.DataFrame.to_numpy(r)"
   ]
  },
  {
   "cell_type": "code",
   "execution_count": 21,
   "id": "96de333a",
   "metadata": {
    "scrolled": false
   },
   "outputs": [
    {
     "data": {
      "image/png": "[encoded data removed]",
      "text/plain": [
       "<Figure size 432x288 with 1 Axes>"
      ]
     },
     "metadata": {
      "needs_background": "light"
     },
     "output_type": "display_data"
    }
   ],
   "source": [
    "import matplotlib.pyplot as plt\n",
    "import os\n",
    "plt.plot(Pd_3_V_1[:,1],Pd_3_V_1[:,0],label='Spotsize 3 $\\mu$m Luxeics 1.0 ',c='b')\n",
    "\n",
    "plt.plot(Pd_3_V_2[:,1],Pd_3_V_2[:,0],'--',label='Spotsize 3 $\\mu$m Luxeics 1.1',c='b')\n",
    "\n",
    "#plt.plot(Pd_E_Conserved_3[:,1],Pd_E_Conserved_3[:,0],label='$w_0$ = $\\sigma_T$, Energy Constant',c='g')\n",
    "plt.plot(Pd_3_V_1[:,1],Pd_10_V_1[:,0],label='Spotsize 10 $\\mu$m Luxeics 1.0' ,c='r')\n",
    "\n",
    "plt.plot(Pd_10_V_2[:,1],Pd_10_V_2[:,0],'--',label='Spotsize 10 $\\mu$m Luxeics 1.1',c='r')\n",
    "\n",
    "\n",
    "\n",
    "# plt.plot(Pd_SigmaT_10[:,1],Pd_SigmaT_10[:,0],'--',c='b')\n",
    "\n",
    "# plt.plot(Pd_SigmaT_w0_10[:,1],Pd_SigmaT_w0_10[:,0],'--',c='r')\n",
    "\n",
    "#plt.plot(Pd_E_Conserved_10[:,1],Pd_E_Conserved_10[:,0],'--',c='g')\n",
    "\n",
    "\n",
    "\n",
    "\n",
    "\n",
    "#plt.xlabel(r'Electron Beam Size $\\sigma_T$ (micron) ')\n",
    "plt.xlabel(r'Electron Beam Size $\\sigma_T$ ($\\mu$m)  ')\n",
    "#plt.ylabel(r'Photon Areal Density  ')\n",
    "plt.ylabel(r'Photon Areal Density ($\\mu$m$^{-2}$)')\n",
    "# plt.yscale('log')\n",
    "# plt.xscale('log')\n",
    "plt.title(f' Pulse Energy = 100 mJ  $w_0$(Laser)= 5 $\\mu$m  ')\n",
    "plt.legend()\n",
    "\n",
    "\n",
    "path=f'{os.getcwd()}{os.sep}Photon_Density'\n",
    "plt.savefig(f'{path}\\LinearVsLinear.png',dpi=200)\n",
    "\n"
   ]
  },
  {
   "cell_type": "code",
   "execution_count": null,
   "id": "52a98c51",
   "metadata": {},
   "outputs": [],
   "source": [
    "plt.xscale('log')\n"
   ]
  },
  {
   "cell_type": "code",
   "execution_count": null,
   "id": "5a18f4e5",
   "metadata": {},
   "outputs": [],
   "source": []
  },
  {
   "cell_type": "code",
   "execution_count": null,
   "id": "54f99440",
   "metadata": {},
   "outputs": [],
   "source": []
  },
  {
   "cell_type": "code",
   "execution_count": 5,
   "id": "49d4c8c5",
   "metadata": {},
   "outputs": [
    {
     "name": "stdout",
     "output_type": "stream",
     "text": [
      "C:/Users/Dupish/Documents/GitHub/luxeics/Photon_Density/Sigma_Parameter_Run_8_10/Photon_Density_Spotsize10.txt\n",
      "                      0       1                  2\n",
      "0       Photon Density   SigmaT        Energy(GeV)\n",
      "1     6.760888605490019     5.0  7337.505167660837\n",
      "2      3.12895360742354    10.0  7337.505167660837\n",
      "3    1.3764789293674478    15.0  7337.505167660837\n",
      "4    0.8641231575300403    20.0  7337.505167660837\n",
      "5   0.45304175265337465    25.0  7337.505167660837\n",
      "6   0.25686575285185503    30.0  7337.505167660837\n",
      "7    0.2435784143884574    35.0  7337.505167660837\n",
      "8    0.2255161450720931    40.0  7337.505167660837\n",
      "9    0.2141494152938132    45.0  7337.505167660837\n",
      "10  0.21101098356407968    50.0  7337.505167660837\n"
     ]
    }
   ],
   "source": [
    "path = fd.askopenfilename(title='Choose File to Plot',filetype=[('text files', '*.txt')])\n",
    "print(path)\n",
    "\n",
    "print(pd.read_csv(path,header=None , sep=\"\\t\"))\n",
    "\n",
    "r=pd.read_csv(f'{path}',header=0 , sep=\"\\t\")\n",
    "Pd_SigmaT_10=pd.DataFrame.to_numpy(r)"
   ]
  },
  {
   "cell_type": "code",
   "execution_count": 4,
   "id": "ebc894bc",
   "metadata": {},
   "outputs": [
    {
     "name": "stdout",
     "output_type": "stream",
     "text": [
      "C:/Users/Dupish/Documents/GitHub/luxeics/Photon_Density/Sigma_Parameter_Run_8_10/Photon_Density_Spotsize3.txt\n",
      "                      0       1    2\n",
      "0       Photon Density   SigmaT  IDK\n",
      "1      7.99673378017644     5.0  0.0\n",
      "2    2.3857494220913247    10.0  0.0\n",
      "3    1.6717391596355902    15.0  0.0\n",
      "4   0.47393886023762766    20.0  0.0\n",
      "5    0.7290948648489659    25.0  0.0\n",
      "6    0.2897461268385033    30.0  0.0\n",
      "7   0.14382581785404272    35.0  0.0\n",
      "8   0.14770198273399832    40.0  0.0\n",
      "9     0.423856015433656    45.0  0.0\n",
      "10   0.5440921226663785    50.0  0.0\n"
     ]
    }
   ],
   "source": [
    "path = fd.askopenfilename(title='Choose File to Plot',filetype=[('text files', '*.txt')])\n",
    "print(path)\n",
    "\n",
    "print(pd.read_csv(path,header=None , sep=\"\\t\"))\n",
    "\n",
    "r=pd.read_csv(f'{path}',header=0 , sep=\"\\t\")\n",
    "Pd_SigmaT_3=pd.DataFrame.to_numpy(r)"
   ]
  },
  {
   "cell_type": "code",
   "execution_count": 6,
   "id": "733b36c9",
   "metadata": {},
   "outputs": [
    {
     "name": "stdout",
     "output_type": "stream",
     "text": [
      "C:/Users/Dupish/Documents/GitHub/luxeics/Photon_Density/Sigma_W0_Parameter_Run_8_10/Photon_Density_Spotsize3.txt\n",
      "                     0       1\n",
      "0      Photon Density   SigmaT\n",
      "1     7.99673378017644     5.0\n",
      "2    8.025713803318935    10.0\n",
      "3    8.467790836378658    15.0\n",
      "4   11.351240501824186    20.0\n",
      "5   12.106779430855031    25.0\n",
      "6   11.435265533897523    30.0\n",
      "7    9.909123839018234    35.0\n",
      "8    8.678585716272119    40.0\n",
      "9    9.677191180567688    45.0\n",
      "10   10.83402773631134    50.0\n"
     ]
    }
   ],
   "source": [
    "path = fd.askopenfilename(title='Choose File to Plot',filetype=[('text files', '*.txt')])\n",
    "print(path)\n",
    "\n",
    "print(pd.read_csv(path,header=None , sep=\"\\t\"))\n",
    "\n",
    "r=pd.read_csv(f'{path}',header=0 , sep=\"\\t\")\n",
    "Pd_SigmaT_w0_3=pd.DataFrame.to_numpy(r)"
   ]
  },
  {
   "cell_type": "code",
   "execution_count": 2,
   "id": "a858b219",
   "metadata": {},
   "outputs": [],
   "source": [
    "from tkinter import filedialog as fd\n",
    "import tkinter as tk\n",
    "import pandas as pd"
   ]
  },
  {
   "cell_type": "code",
   "execution_count": 7,
   "id": "0766fc1d",
   "metadata": {},
   "outputs": [
    {
     "name": "stdout",
     "output_type": "stream",
     "text": [
      "C:/Users/Dupish/Documents/GitHub/luxeics/Photon_Density/Sigma_W0_Parameter_Run_8_10/Photon_Density_Spotsize10.txt\n",
      "                     0       1\n",
      "0      Photon Density   SigmaT\n",
      "1    6.760888605490019     5.0\n",
      "2    8.674694059555303    10.0\n",
      "3       9.914107043013    15.0\n",
      "4   10.957573883227775    20.0\n",
      "5    10.34035501049034    25.0\n",
      "6   10.104797943876578    30.0\n",
      "7   10.823817163695187    35.0\n",
      "8    9.654699226684581    40.0\n",
      "9    10.13342005734654    45.0\n",
      "10  10.244212636028138    50.0\n"
     ]
    }
   ],
   "source": [
    "path = fd.askopenfilename(title='Choose File to Plot',filetype=[('text files', '*.txt')])\n",
    "print(path)\n",
    "\n",
    "print(pd.read_csv(path,header=None , sep=\"\\t\"))\n",
    "\n",
    "r=pd.read_csv(f'{path}',header=0 , sep=\"\\t\")\n",
    "Pd_SigmaT_w0_10=pd.DataFrame.to_numpy(r)"
   ]
  },
  {
   "cell_type": "code",
   "execution_count": null,
   "id": "cd7aad44",
   "metadata": {},
   "outputs": [],
   "source": []
  },
  {
   "cell_type": "code",
   "execution_count": null,
   "id": "174db02c",
   "metadata": {},
   "outputs": [],
   "source": []
  }
 ],
 "metadata": {
  "kernelspec": {
   "display_name": "Python 3",
   "language": "python",
   "name": "python3"
  },
  "language_info": {
   "codemirror_mode": {
    "name": "ipython",
    "version": 3
   },
   "file_extension": ".py",
   "mimetype": "text/x-python",
   "name": "python",
   "nbconvert_exporter": "python",
   "pygments_lexer": "ipython3",
   "version": "3.8.8"
  }
 },
 "nbformat": 4,
 "nbformat_minor": 5
}
