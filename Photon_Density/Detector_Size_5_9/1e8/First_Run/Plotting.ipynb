{
 "cells": [
  {
   "cell_type": "code",
   "execution_count": 22,
   "id": "37478ef0",
   "metadata": {},
   "outputs": [],
   "source": [
    "from tkinter import *\n",
    "from tkinter import filedialog\n",
    "root = Tk()\n",
    "def open():\n",
    "    root.filename = filedialog.askopenfilename(title= 'Select a File')\n",
    "    root.mainloop()   \n",
    "    return(root.filename)"
   ]
  },
  {
   "cell_type": "code",
   "execution_count": 23,
   "id": "48b468b8",
   "metadata": {},
   "outputs": [
    {
     "name": "stdout",
     "output_type": "stream",
     "text": [
      "C:/Users/Dupish/Documents/GitHub/luxeics/Photon_Density/First_Run/Photon_Density_Spotsize3.txt\n",
      "                      0     1                   2\n",
      "0       Photon Density    W_0          Energy(mJ)\n",
      "1                   0.0   5.0         100.0080756\n",
      "2    2.2753762280431116   6.0  100.00807559999997\n",
      "3    0.5781599449754521   7.0  100.00807559999997\n",
      "4    0.4597121979479663   8.0  100.00807559999997\n",
      "5     1.136644808892639   9.0  100.00807559999997\n",
      "6   0.29113023340975414  10.0         100.0080756\n",
      "7   0.23639610364601457  11.0  100.00807559999997\n",
      "8   0.21421297391670488  12.0  100.00807559999997\n",
      "9    0.6872330096947913  13.0         100.0080756\n",
      "10   0.7631773132594882  14.0  100.00807559999997\n",
      "11    0.662238894304562  15.0  100.00807559999997\n",
      "12   0.8183853360595121  16.0  100.00807559999997\n",
      "13    0.625633599084528  17.0         100.0080756\n",
      "14   0.8339813137495292  18.0  100.00807559999997\n",
      "15   0.9395308900741015  19.0  100.00807559999997\n",
      "16   0.7084668806205299  20.0         100.0080756\n"
     ]
    }
   ],
   "source": [
    "'''\n",
    "Reading the text files\n",
    "The final array p does not contain the Header files\n",
    "\n",
    "'''\n",
    "import pandas as pd\n",
    "path=open()\n",
    "print(path)\n",
    "print(pd.read_csv(path,header=None , sep=\"\\t\"))\n",
    "\n",
    "r=pd.read_csv(f'{path}',header=0 , sep=\"\\t\")\n",
    "Pd_3=pd.DataFrame.to_numpy(r)"
   ]
  },
  {
   "cell_type": "code",
   "execution_count": 25,
   "id": "8b80e00d",
   "metadata": {},
   "outputs": [
    {
     "name": "stdout",
     "output_type": "stream",
     "text": [
      "C:/Users/Dupish/Documents/GitHub/luxeics/Photon_Density/First_Run/Photon_Density_Spotsize10.txt\n",
      "                     0     1                   2\n",
      "0      Photon Density    W_0          Energy(mJ)\n",
      "1   0.6369560185723828   5.0         100.0080756\n",
      "2    0.797504794431592   6.0  100.00807559999997\n",
      "3   0.4228243601208884   7.0  100.00807559999997\n",
      "4   0.9641004838965667   8.0  100.00807559999997\n",
      "5   0.5792199285641098   9.0  100.00807559999997\n",
      "6   0.5508445657887918  10.0         100.0080756\n",
      "7   0.5757830309286852  11.0  100.00807559999997\n",
      "8   0.4064211629071876  12.0  100.00807559999997\n",
      "9     0.63863958857781  13.0         100.0080756\n",
      "10  0.6294118270353671  14.0  100.00807559999997\n",
      "11  0.5500216683883239  15.0  100.00807559999997\n",
      "12  0.7623000073464132  16.0  100.00807559999997\n",
      "13  0.7377962904621566  17.0         100.0080756\n",
      "14  0.5737101322774177  18.0  100.00807559999997\n",
      "15  0.6382128616262737  19.0  100.00807559999997\n",
      "16  0.6640829565903983  20.0         100.0080756\n"
     ]
    }
   ],
   "source": [
    "'''\n",
    "Reading the text files\n",
    "The final array p does not contain the Header files\n",
    "\n",
    "'''\n",
    "import pandas as pd\n",
    "path=open()\n",
    "print(path)\n",
    "print(pd.read_csv(path,header=None , sep=\"\\t\"))\n",
    "\n",
    "r=pd.read_csv(f'{path}',header=0 , sep=\"\\t\")\n",
    "Pd_10=pd.DataFrame.to_numpy(r)"
   ]
  },
  {
   "cell_type": "code",
   "execution_count": 4,
   "id": "b030dbc4",
   "metadata": {},
   "outputs": [
    {
     "name": "stdout",
     "output_type": "stream",
     "text": [
      "C:/Users/Dupish/Documents/luxeics_1/Photon_Density/Energy_Conserved_Sigma_Paramter_Run1/Photon_Density_Spotsize10.txt\n",
      "                     0       1            2\n",
      "0      Photon Density   SigmaT   Energy(mJ)\n",
      "1    66.80625358889108     5.0  100.0080756\n",
      "2    52.18598332264338     6.0  100.0080756\n",
      "3    39.68899509610844     7.0  100.0080756\n",
      "4   33.608010929777436     8.0  100.0080756\n",
      "5   28.151336330254825     9.0  100.0080756\n",
      "6    26.07302104102739    10.0  100.0080756\n",
      "7   21.948245790856845    11.0  100.0080756\n",
      "8   18.575592309780205    12.0  100.0080756\n",
      "9   17.774374237335905    13.0  100.0080756\n",
      "10   12.69399230111526    14.0  100.0080756\n",
      "11  11.664625545854735    15.0  100.0080756\n",
      "12   8.981628335966496    16.0  100.0080756\n",
      "13   9.756591925421317    17.0  100.0080756\n",
      "14   7.476894465740263    18.0  100.0080756\n",
      "15    8.00620888806494    19.0  100.0080756\n",
      "16   6.839108695738018    20.0  100.0080756\n"
     ]
    }
   ],
   "source": [
    "# '''\n",
    "# Reading the text files\n",
    "# The final array p does not contain the Header files\n",
    "\n",
    "# '''\n",
    "# import pandas as pd\n",
    "# path=open()\n",
    "# print(path)\n",
    "# print(pd.read_csv(path,header=None , sep=\"\\t\"))\n",
    "\n",
    "# r=pd.read_csv(f'{path}',header=0 , sep=\"\\t\")\n",
    "# Pd_10_V_1=pd.DataFrame.to_numpy(r)"
   ]
  },
  {
   "cell_type": "code",
   "execution_count": 5,
   "id": "1266a190",
   "metadata": {},
   "outputs": [
    {
     "name": "stdout",
     "output_type": "stream",
     "text": [
      "C:/Users/Dupish/Documents/GitHub/luxeics/Photon_Density/Check/Photon_Density_Spotsize10.txt\n",
      "                     0       1            2\n",
      "0      Photon Density   SigmaT   Energy(mJ)\n",
      "1    60.09051798249141     5.0  100.0080756\n",
      "2    53.68258276258067     6.0  100.0080756\n",
      "3   44.859142841268145     7.0  100.0080756\n",
      "4    33.41312630152489     8.0  100.0080756\n",
      "5   30.277832350133497     9.0  100.0080756\n",
      "6    24.36525892688047    10.0  100.0080756\n",
      "7    20.04638224690709    11.0  100.0080756\n",
      "8   18.012485695983866    12.0  100.0080756\n",
      "9   13.531527164113236    13.0  100.0080756\n",
      "10  13.348688238398935    14.0  100.0080756\n",
      "11  13.250084073185658    15.0  100.0080756\n",
      "12  10.457944668514164    16.0  100.0080756\n",
      "13     9.2405990897382    17.0  100.0080756\n",
      "14   8.692969259284249    18.0  100.0080756\n",
      "15   6.950472919001231    19.0  100.0080756\n",
      "16   6.721969474721303    20.0  100.0080756\n"
     ]
    }
   ],
   "source": [
    "\n",
    "# '''\n",
    "# Reading the text files\n",
    "# The final array p does not contain the Header files\n",
    "\n",
    "# '''\n",
    "# import pandas as pd\n",
    "# path=open()\n",
    "# print(path)\n",
    "# print(pd.read_csv(path,header=None , sep=\"\\t\"))\n",
    "\n",
    "# r=pd.read_csv(f'{path}',header=0 , sep=\"\\t\")\n",
    "# Pd_10_V_2=pd.DataFrame.to_numpy(r)"
   ]
  },
  {
   "cell_type": "code",
   "execution_count": 27,
   "id": "3ee9115e",
   "metadata": {},
   "outputs": [],
   "source": [
    "\n",
    "# '''\n",
    "# Reading the text files\n",
    "# The final array p does not contain the Header files\n",
    "\n",
    "# '''\n",
    "# import pandas as pd\n",
    "# path=r\"C:\\Users\\Dupish\\Documents\\GitHub\\luxeics\\Photon_Density\\Energy_Conserved_Para_Run_18_10_21\\Photon_Density_Spotsize3.txt\"\n",
    "# print(pd.read_csv(path,header=None , sep=\"\\t\"))\n",
    "\n",
    "# r=pd.read_csv(f'{path}',header=0 , sep=\"\\t\")\n",
    "# Pd_E_Conserved_3=pd.DataFrame.to_numpy(r)"
   ]
  },
  {
   "cell_type": "code",
   "execution_count": 28,
   "id": "10c77f50",
   "metadata": {},
   "outputs": [],
   "source": [
    "\n",
    "# '''\n",
    "# Reading the text files\n",
    "# The final array p does not contain the Header files\n",
    "\n",
    "# '''\n",
    "# import pandas as pd\n",
    "# path=r\"C:\\Users\\Dupish\\Documents\\GitHub\\luxeics\\Photon_Density\\Energy_Conserved_Para_Run_18_10_21\\Photon_Density_Spotsize10.txt\"\n",
    "# print(pd.read_csv(path,header=None , sep=\"\\t\"))\n",
    "\n",
    "# r=pd.read_csv(f'{path}',header=0 , sep=\"\\t\")\n",
    "# Pd_E_Conserved_10=pd.DataFrame.to_numpy(r)"
   ]
  },
  {
   "cell_type": "code",
   "execution_count": 32,
   "id": "96de333a",
   "metadata": {
    "scrolled": false
   },
   "outputs": [
    {
     "data": {
      "image/png": "[encoded data removed]",
      "text/plain": [
       "<Figure size 432x288 with 1 Axes>"
      ]
     },
     "metadata": {
      "needs_background": "light"
     },
     "output_type": "display_data"
    }
   ],
   "source": [
    "import matplotlib.pyplot as plt\n",
    "import os\n",
    "plt.plot(Pd_3[:,1],Pd_3[:,0],label='Spotsize 3 $\\mu$m',c='b')\n",
    "\n",
    "plt.plot(Pd_10[:,1],Pd_10[:,0],label='Spotsize 10 $\\mu$m',c='r')\n",
    "\n",
    "#plt.plot(Pd_E_Conserved_3[:,1],Pd_E_Conserved_3[:,0],label='$w_0$ = $\\sigma_T$, Energy Constant',c='g')\n",
    "# plt.plot(Pd_3_V_1[:,1],Pd_10_V_1[:,0],label='Spotsize 10 $\\mu$m Luxeics 1.0' ,c='r')\n",
    "\n",
    "# plt.plot(Pd_10_V_2[:,1],Pd_10_V_2[:,0],'--',label='Spotsize 10 $\\mu$m Luxeics 1.1',c='r')\n",
    "\n",
    "\n",
    "\n",
    "# plt.plot(Pd_SigmaT_10[:,1],Pd_SigmaT_10[:,0],'--',c='b')\n",
    "\n",
    "# plt.plot(Pd_SigmaT_w0_10[:,1],Pd_SigmaT_w0_10[:,0],'--',c='r')\n",
    "\n",
    "#plt.plot(Pd_E_Conserved_10[:,1],Pd_E_Conserved_10[:,0],'--',c='g')\n",
    "\n",
    "\n",
    "\n",
    "\n",
    "\n",
    "#plt.xlabel(r'Electron Beam Size $\\sigma_T$ (micron) ')\n",
    "plt.xlabel(r'Laser Beam Size $w_0$ ($\\mu$m)  ')\n",
    "#plt.ylabel(r'Photon Areal Density  ')\n",
    "plt.ylabel(r'Photon Areal Density ($\\mu$m$^{-2}$)')\n",
    "# plt.yscale('log')\n",
    "# plt.xscale('log')\n",
    "plt.title(f' $Electron$ $Beam$ $Focussed$ $at$ $Strong$ $IP$ \\n Pulse Energy = 100 mJ  ')\n",
    "plt.legend()\n",
    "\n",
    "\n",
    "path=f'{os.getcwd()}{os.sep}Photon_Density'\n",
    "plt.savefig(f'{path}\\LinearVsLinear.png',dpi=200)\n",
    "\n"
   ]
  },
  {
   "cell_type": "code",
   "execution_count": null,
   "id": "b6de9114",
   "metadata": {},
   "outputs": [],
   "source": []
  }
 ],
 "metadata": {
  "kernelspec": {
   "display_name": "Python 3",
   "language": "python",
   "name": "python3"
  },
  "language_info": {
   "codemirror_mode": {
    "name": "ipython",
    "version": 3
   },
   "file_extension": ".py",
   "mimetype": "text/x-python",
   "name": "python",
   "nbconvert_exporter": "python",
   "pygments_lexer": "ipython3",
   "version": "3.8.8"
  }
 },
 "nbformat": 4,
 "nbformat_minor": 5
}
