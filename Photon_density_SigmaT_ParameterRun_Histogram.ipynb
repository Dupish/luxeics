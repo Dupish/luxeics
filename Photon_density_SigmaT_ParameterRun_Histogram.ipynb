{
 "cells": [
  {
   "cell_type": "code",
   "execution_count": 2,
   "id": "4ca7257e",
   "metadata": {},
   "outputs": [],
   "source": [
    "\n",
    "import yaml\n",
    "import os\n",
    "import pandas as pd\n",
    "from numpy import *\n",
    "import luxeics\n",
    "import h5py\n",
    "\n",
    "from scipy.interpolate import interp2d,RectBivariateSpline\n",
    "\n",
    "import matplotlib.pyplot as plt\n",
    "\n",
    "import luxeics\n",
    "\n",
    "\n",
    "def Photon_density(xoffset,yoffset,X1,X2,baseline,spotsize,sigmaT,W,path,K0):\n",
    "    \n",
    "    \n",
    "    Area=pi*spotsize**2\n",
    "\n",
    "    \n",
    "    selector= sqrt((xoffset+X1)**2+(yoffset+X2)**2) < spotsize\n",
    "\n",
    "\n",
    "#     print ( f'IP-laser spot size: {spotsize:.2f} micron')\n",
    "#     print ( f'baseline          : {baseline/1e6:.2f} metres')\n",
    "#     print ('-'*42)\n",
    "\n",
    "#     print (f'photons in spot')\n",
    "#     print (f'macrophoton weight               : {amax(W):.4g}')\n",
    "    \n",
    "#     print ( 'macrophotons, finite source size :',sum( selector) )\n",
    "    \n",
    "#     print ( 'photon weight, finite source size:',sum(W[selector ] ) )\n",
    "    \n",
    "    \n",
    "    P=sum(W[selector ] )/Area\n",
    "    \n",
    "#     print ( f'Photon density, finite source size:',P)\n",
    "    \n",
    "#     print (' ######################################### '  )\n",
    "#     print ('                           '  )\n",
    "#     plt.figure(figsize=(14,6))\n",
    "\n",
    "    \n",
    "\n",
    "#     ax1=plt.subplot(122,aspect=1)\n",
    "\n",
    "#     # plot(X1+xoffset, X2+yoffset, color='m', marker=',',lw=0);\n",
    "\n",
    "\n",
    "\n",
    "\n",
    "\n",
    "#     plt.scatter(X1+xoffset, X2+yoffset, color='m', marker='.',lw=0,s=W);\n",
    "\n",
    "#     plt.xlim(-2*spotsize,2*spotsize)\n",
    "#     plt.ylim(-2*spotsize,2*spotsize)\n",
    "    \n",
    "#     plt.xlabel(r'$x$ (micron)')\n",
    "#     plt.ylabel(r'$y$ (micron)');\n",
    "#     plt.title(f'Finite source size, Photon density:{round(P,2)} micron^(-2)')\n",
    "\n",
    "    \n",
    "#     ax1.add_patch(plt.Circle((0,0),spotsize,color='C0',fill=False))\n",
    "\n",
    "\n",
    "#     plt.suptitle(f' sigmaT :{sigmaT} micron ; spotsize:{spotsize} micron')\n",
    "#     plt.savefig(f'{path}\\photon_spectrum_at_focus_{sigmaT}_{spotsize}.png',dpi=200)\n",
    "    K_inside_Spot=K0[selector]\n",
    "    W_inside_Spot=W[selector]\n",
    "#     df = pd.DataFrame(K0[selector])\n",
    "#     df.to_csv(f'{path}\\Energy_Photons_Spotsize{spotsize}_sigmaT_{sigmaT}.txt',header=None , index=None, sep=\"\\t\", mode='w')\n",
    "    plt.figure(figsize=(10,6))\n",
    "\n",
    "    plt.subplot(111)\n",
    "    plt.hist(K0[selector]/1e9,bins=linspace(6,9,50),weights=W[selector],alpha=1  ,fc='C0',label=f'SigmaT_{sigmaT}_Spotsize_{spotsize}');\n",
    "     \n",
    "    plt.xlim(6,9)\n",
    "    plt.legend()\n",
    "    plt.xlabel('ICS photon energy (GeV)')\n",
    "    plt.ylabel('photon spectrum at IP')\n",
    "    \n",
    "    plt.savefig(f'{path}\\photon_spectrum_at_focus_SigmaT_{sigmaT}_Spotsize_{spotsize}.png',dpi=200)\n",
    "    return(P,K_inside_Spot+1j*sigmaT,W_inside_Spot)\n",
    "                                      \n",
    "    \n",
    "                                   \n",
    "def run(spotsize,input_filename,path):\n",
    "    \n",
    "\n",
    "    \n",
    "    \n",
    "    with h5py.File(input_filename + '.h5' ,'r') as ff:\n",
    "    #     omega      = ff['final-state/spectrum/omega'][:]/1e9\n",
    "    #     theta      = ff['final-state/spectrum/theta'][:]*1e6\n",
    "    #     spectrum   = ff['final-state/spectrum/spectrum'][:]\n",
    "\n",
    "        K0,K1,K2,K3  = ff['final-state/photon/momentum'][:].T\n",
    "        X0,X1,X2,X3  = ff['final-state/photon/position'][:].T\n",
    "        W            = ff['final-state/photon/weight'  ][:]\n",
    "\n",
    "        P0,P1,P2,P3  = ff['final-state/electron/momentum'][:].T\n",
    "    #     X0,X1,X2,X3  = ff['final-state/photon/position'][:].T\n",
    "    #     We            = ff['final-state/photon/weight'  ][:]\n",
    "    with open( input_filename + '.yml', 'r' ) as stream:\n",
    "        input_dict = yaml.load(stream, Loader=yaml.SafeLoader)\n",
    "\n",
    "        mode             = input_dict['control']['mode']\n",
    "\n",
    "\n",
    "        beam_charge      = float( input_dict['beam']['beam_charge'])\n",
    "        number_electrons = int( beam_charge / 1.60217653e-19)\n",
    "\n",
    "    #     sampling         = input_dict['control']['sampling']\n",
    "        sampling = mode\n",
    "\n",
    "        w0               = float(input_dict['laser']['w0'])\n",
    "        omega0           = float(input_dict['laser']['omega0'])\n",
    "        gamma            = float(input_dict['beam']['gamma'])\n",
    "        Xr               = 4*gamma*omega0/511*10**(-3)\n",
    "        energyspread     = float(input_dict['beam']['energyspread'])\n",
    "        sigmaT   = float(input_dict['beam']['sigmaT'])\n",
    "#     print (f'beam charge                              : {beam_charge*1e12:.24} pC')\n",
    "#     print (f'number of beam electrons                 : {number_electrons:.3e}')\n",
    "#     print ('-'*42)\n",
    "#     print (f'{sampling} sampling:')\n",
    "#     print (f'max  single photon weight                : {amax(W):.4g}')\n",
    "#     print (f'mean single photon weight                : {mean(W):.4g}')\n",
    "#     print (f'total photon weight                      : {sum(W):.4g}')\n",
    "#     print (f'total photon weight per incident electron: {sum(W)/number_electrons:.4g}')\n",
    "#     print (f'total macro photon number                : {len(W)}')\n",
    "#     print ('-'*42)\n",
    "#     print(f' Frequency (Laser) :  {omega0}'  )\n",
    "#     print(f'Recoil Factor:{Xr}')\n",
    "#     print (' ######################################### '  )\n",
    "#     print ('                           '  )\n",
    "    baseline = 7.5e6\n",
    "\n",
    "    thetax=K1/K3\n",
    "    thetay=K2/K3\n",
    "\n",
    "     \n",
    "\n",
    "    xoffset = thetax * baseline\n",
    "    yoffset = thetay * baseline\n",
    "    \n",
    "    Pd,K_inside_Spot,W_inside_Spot=Photon_density(xoffset,yoffset,X1,X2,baseline,spotsize,sigmaT,W,path,K0)\n",
    "    \n",
    "    \n",
    "    \n",
    "    \n",
    "    return(Pd,K_inside_Spot,W_inside_Spot)"
   ]
  },
  {
   "cell_type": "code",
   "execution_count": 3,
   "id": "2d2d303e",
   "metadata": {
    "scrolled": false
   },
   "outputs": [
    {
     "ename": "FileExistsError",
     "evalue": "[WinError 183] Cannot create a file when that file already exists: 'C:\\\\Users\\\\Dupish\\\\Documents\\\\GitHub\\\\luxeics\\\\Photon_Density\\\\Sigma_T_PARARUN_Histogram_1_2_0'",
     "output_type": "error",
     "traceback": [
      "\u001b[1;31m---------------------------------------------------------------------------\u001b[0m",
      "\u001b[1;31mFileExistsError\u001b[0m                           Traceback (most recent call last)",
      "\u001b[1;32m<ipython-input-3-b616ca5fe213>\u001b[0m in \u001b[0;36m<module>\u001b[1;34m\u001b[0m\n\u001b[0;32m      9\u001b[0m \u001b[0mparent_dir\u001b[0m \u001b[1;33m=\u001b[0m \u001b[1;34mf\"{os. getcwd()}\\Photon_Density\"\u001b[0m\u001b[1;33m\u001b[0m\u001b[1;33m\u001b[0m\u001b[0m\n\u001b[0;32m     10\u001b[0m \u001b[0mpath\u001b[0m \u001b[1;33m=\u001b[0m \u001b[0mos\u001b[0m\u001b[1;33m.\u001b[0m\u001b[0mpath\u001b[0m\u001b[1;33m.\u001b[0m\u001b[0mjoin\u001b[0m\u001b[1;33m(\u001b[0m\u001b[0mparent_dir\u001b[0m\u001b[1;33m,\u001b[0m \u001b[0mdirectory\u001b[0m\u001b[1;33m)\u001b[0m\u001b[1;33m\u001b[0m\u001b[1;33m\u001b[0m\u001b[0m\n\u001b[1;32m---> 11\u001b[1;33m \u001b[0mos\u001b[0m\u001b[1;33m.\u001b[0m\u001b[0mmkdir\u001b[0m\u001b[1;33m(\u001b[0m\u001b[0mpath\u001b[0m\u001b[1;33m)\u001b[0m\u001b[1;33m\u001b[0m\u001b[1;33m\u001b[0m\u001b[0m\n\u001b[0m\u001b[0;32m     12\u001b[0m \u001b[1;33m\u001b[0m\u001b[0m\n\u001b[0;32m     13\u001b[0m \u001b[0mK1\u001b[0m\u001b[1;33m=\u001b[0m\u001b[1;33m[\u001b[0m\u001b[1;33m]\u001b[0m\u001b[1;31m# for spotsize 1\u001b[0m\u001b[1;33m\u001b[0m\u001b[1;33m\u001b[0m\u001b[0m\n",
      "\u001b[1;31mFileExistsError\u001b[0m: [WinError 183] Cannot create a file when that file already exists: 'C:\\\\Users\\\\Dupish\\\\Documents\\\\GitHub\\\\luxeics\\\\Photon_Density\\\\Sigma_T_PARARUN_Histogram_1_2_0'"
     ]
    }
   ],
   "source": [
    "\n",
    "\n",
    "input_filename = \"New\"\n",
    "n=10\n",
    "sigma=zeros(n)\n",
    "r=1 #Number of runs\n",
    "Pd = ones((n,2,r))\n",
    "spotsize1=3\n",
    "spotsize2=10\n",
    "directory = \"Sigma_T_PARARUN_Histogram_1_2_0\"\n",
    "parent_dir = f\"{os. getcwd()}\\Photon_Density\"\n",
    "path = os.path.join(parent_dir, directory)\n",
    "os.mkdir(path)\n",
    "\n",
    "K1=[]# for spotsize 1\n",
    "K2=[]# for spotsize 2\n",
    "W1=[]# for spotsize 1\n",
    "W2=[]# for spotsize 2\n",
    "'''\n",
    "\n",
    "Energy= I0 * pi* (w0 **2)* T_fwhm\n",
    "I0= (omega*m*a0)**2/(8*pi*alpha)\n",
    "\n",
    "a0*w0= constant\n",
    "\n",
    "'''\n",
    "Energy = zeros((n,r))\n",
    "\n",
    "            \n",
    "            \n",
    "                    \n",
    "for j in range(r):\n",
    "    for i in range(n):\n",
    "        with open( input_filename+'.yml', 'r' ) as stream:\n",
    "            input_dict = yaml.load(stream, Loader=yaml.SafeLoader)\n",
    "            sigma1= 5+i*5\n",
    "\n",
    "            input_dict['beam']['sigmaT']=sigma1\n",
    "            input_dict['control']['name']=f'{path}\\SigmaT{sigma1}'\n",
    "            \n",
    "            \n",
    "            ###Comment the previous line to just to do a parameter run in sigmaT\n",
    "            input_filename1 = f'SigmaT{sigma1}'\n",
    "\n",
    "\n",
    "        with open(      f'{path}\\SigmaT{sigma1}'+'.yml', 'w') as file:\n",
    "            documents = yaml.dump(input_dict, file)\n",
    "\n",
    "        # import matplotlib.pyplot as plt\n",
    "\n",
    "        sigma[i]=sigma1\n",
    "\n",
    "\n",
    "        with open( f'{path}\\SigmaT{sigma1}'+'.yml', 'r' ) as stream:\n",
    "            input_dict = yaml.load(stream, Loader=yaml.SafeLoader)\n",
    "\n",
    "        #print (input_dict)\n",
    "\n",
    "\n",
    "\n",
    "        luxeics.main_program( f'{path}\\SigmaT{sigma1}'+'.yml' )\n",
    "\n",
    "        Pd[i,0,j],K_temp,W_temp=run(spotsize1,f'{path}\\SigmaT{sigma1}',path)\n",
    "        Pd[i,1,j],K_temp1,W_temp1=run(spotsize2,f'{path}\\SigmaT{sigma1}',path)\n",
    "        K1.append(K_temp)\n",
    "        K2.append(K_temp1)\n",
    "        W1.append(W_temp)\n",
    "        W2.append(W_temp1)\n"
   ]
  },
  {
   "cell_type": "code",
   "execution_count": 35,
   "id": "831387ec",
   "metadata": {},
   "outputs": [
    {
     "name": "stdout",
     "output_type": "stream",
     "text": [
      "[ 5. 10. 15. 20. 25. 30. 35. 40. 45. 50.]\n",
      "[[0.]\n",
      " [0.]\n",
      " [0.]\n",
      " [0.]\n",
      " [0.]\n",
      " [0.]\n",
      " [0.]\n",
      " [0.]\n",
      " [0.]\n",
      " [0.]]\n"
     ]
    }
   ],
   "source": [
    "print(sigma)\n",
    "print(Energy*10**(-9))"
   ]
  },
  {
   "cell_type": "code",
   "execution_count": null,
   "id": "ae544387",
   "metadata": {
    "scrolled": true
   },
   "outputs": [],
   "source": [
    "# plt.plot(sigma,Pd[:,0],label=f'{spotsize1} microns')\n",
    "# plt.plot(sigma,Pd[:,1],label=f'{spotsize2} microns')\n",
    "# plt.xlabel('SigmaT [microns]')\n",
    "# plt.ylabel(r'Photon Density [microns^(-2)]')\n",
    "# plt.legend()\n",
    "# plt.title('Zero Source Size')\n",
    "# plt.savefig(f'{path}\\PhotonDensity_vs_sigmaT_Zero.png',dpi=200)"
   ]
  },
  {
   "cell_type": "code",
   "execution_count": null,
   "id": "03d536c3",
   "metadata": {
    "scrolled": true
   },
   "outputs": [],
   "source": [
    "# plt.plot(sigma,Pd[:,0],label=f'{spotsize1} microns')\n",
    "# plt.plot(sigma,Pd[:,1],label=f'{spotsize2} microns')\n",
    "# plt.xlabel('SigmaT [microns]')\n",
    "# plt.ylabel('Photon Density [microns^(-2)]')\n",
    "# plt.title('Finite Source Size')\n",
    "# plt.legend()\n",
    "# plt.savefig(f'{path}\\PhotonDensity_vs_sigmaT_Finite.png',dpi=200)"
   ]
  },
  {
   "cell_type": "code",
   "execution_count": 74,
   "id": "1dd7ab7b",
   "metadata": {},
   "outputs": [],
   "source": [
    "import numpy as np\n",
    "Pd_Mean=np.ones((n,2))\n",
    "\n",
    "Pd_STD=np.ones((n,2))\n",
    "for i in range(n):\n",
    "\n",
    "    Pd_Mean[i,0]=np.mean(Pd[i,0,:])\n",
    "    Pd_STD[i,0]=np.std(Pd[i,0,:])\n",
    "    Pd_Mean[i,1]=np.mean(Pd[i,1,:])\n",
    "    Pd_STD[i,1]=np.std(Pd[i,1,:])"
   ]
  },
  {
   "cell_type": "code",
   "execution_count": 75,
   "id": "c8333e37",
   "metadata": {},
   "outputs": [
    {
     "name": "stdout",
     "output_type": "stream",
     "text": [
      "(10, 2, 1)\n"
     ]
    }
   ],
   "source": [
    "print(np.shape(Pd))"
   ]
  },
  {
   "cell_type": "code",
   "execution_count": 76,
   "id": "d18c9cb9",
   "metadata": {},
   "outputs": [
    {
     "data": {
      "image/png": "[encoded data removed]",
      "text/plain": [
       "<Figure size 432x288 with 1 Axes>"
      ]
     },
     "metadata": {
      "needs_background": "light"
     },
     "output_type": "display_data"
    }
   ],
   "source": [
    "plt.plot(sigma,Pd_Mean[:,0])\n",
    "plt.errorbar(sigma,Pd_Mean[:,0],Pd_STD[:,0], linestyle='None', marker='.',label='St. Deviation')\n",
    "plt.xlabel('sigmaT=W0 [microns]')\n",
    "plt.ylabel('Photon Density [microns^(-2)]')\n",
    "plt.title(f'Spotsize:{spotsize1} microns')\n",
    "plt.legend()\n",
    "plt.savefig(f'{path}\\PhotonDensity_vs_sigmaT_Spotsize{spotsize1}_Finite.png',dpi=200)"
   ]
  },
  {
   "cell_type": "code",
   "execution_count": 77,
   "id": "40b1ef26",
   "metadata": {},
   "outputs": [
    {
     "data": {
      "image/png": "[encoded data removed]",
      "text/plain": [
       "<Figure size 432x288 with 1 Axes>"
      ]
     },
     "metadata": {
      "needs_background": "light"
     },
     "output_type": "display_data"
    }
   ],
   "source": [
    "plt.plot(sigma,Pd_Mean[:,1])\n",
    "plt.errorbar(sigma,Pd_Mean[:,1],Pd_STD[:,1], linestyle='None', marker='.',label='St. Deviation')\n",
    "plt.xlabel('sigmaT=W0 [microns]')\n",
    "plt.ylabel('Photon Density [microns^(-2)]')\n",
    "plt.title(f'Spotsize:{spotsize2} microns')\n",
    "plt.legend()\n",
    "plt.savefig(f'{path}\\PhotonDensity_vs_sigmaT_Spotsize{spotsize2}_Finite.png',dpi=200)"
   ]
  },
  {
   "cell_type": "code",
   "execution_count": null,
   "id": "1f90745b",
   "metadata": {},
   "outputs": [],
   "source": [
    "# import pandas as pd\n",
    "# import numpy as np\n",
    "# import os\n",
    "# Data=np.zeros((n,3))\n",
    "# Data[:,0]=sigma\n",
    "# Data[:,1]=Pd[:,0]\n",
    "# Data[:,2]=Pd[:,1]\n",
    "# df=pd.DataFrame(Data)\n",
    "\n",
    "# List=[\"Sigma\",\"3 microns              \",\"10 microns\"]\n",
    "# df.to_csv(f'{path}\\Photon_Density.txt',header=List , index=None, sep=\"\\t\", mode='w')\n",
    "\n",
    "\n",
    "\n",
    "# print(df)"
   ]
  },
  {
   "cell_type": "code",
   "execution_count": 78,
   "id": "17971b4d",
   "metadata": {},
   "outputs": [
    {
     "name": "stdout",
     "output_type": "stream",
     "text": [
      "      0          1\n",
      "0   5.0  29.300151\n",
      "1  10.0  28.993810\n",
      "2  15.0  21.223361\n",
      "3  20.0  11.511541\n",
      "4  25.0  13.338213\n",
      "5  30.0   7.983457\n",
      "6  35.0   4.667111\n",
      "7  40.0   5.780440\n",
      "8  45.0   2.617738\n",
      "9  50.0   2.569242\n"
     ]
    }
   ],
   "source": [
    "'''\n",
    "Saving the Data\n",
    "'''\n",
    "\n",
    "\n",
    "import pandas as pd\n",
    "import numpy as np\n",
    "import os\n",
    "Data=np.zeros((n,r+1))\n",
    "Data[:,0]=sigma\n",
    "Data[:,1:r+1]=Pd[:,0,0:r]\n",
    "df=pd.DataFrame(Data)\n",
    "\n",
    "List=[\"SigmaT\",\"Photon Density \"]\n",
    "df.to_csv(f'{path}\\Photon_Density_Spotsize{spotsize1}.txt',header=List , index=None, sep=\"\\t\", mode='w')\n",
    "\n",
    "\n",
    "\n",
    "print(df)"
   ]
  },
  {
   "cell_type": "code",
   "execution_count": 81,
   "id": "33927140",
   "metadata": {},
   "outputs": [],
   "source": [
    "\n",
    "DatatempK1=list(chain.from_iterable(K1))\n",
    "DatatempK2=list(chain.from_iterable(K2))\n",
    "\n",
    "DatatempW1=list(chain.from_iterable(W1))\n",
    "DatatempW2=list(chain.from_iterable(W2))\n",
    "\n",
    "Data1=np.zeros((len(DatatempK1),2),complex)\n",
    "\n",
    "Data1[:,0]=DatatempK1\n",
    "Data1[:,1]=DatatempW1\n",
    "\n",
    "Data2=np.zeros((len(DatatempK2),2),complex)\n",
    "\n",
    "\n",
    "Data2[:,0]=DatatempK2\n",
    "\n",
    "Data2[:,1]=DatatempW2\n",
    "\n",
    "\n",
    "\n",
    "df1=pd.DataFrame(Data1)\n",
    "df2=pd.DataFrame(Data2)\n",
    "\n",
    "\n",
    "\n",
    "List1=[\"Energy(eV)+1j*SigmaT (microns) \",\"Weights\"]\n",
    "df1.to_csv(f'{path}\\Photon_Energy_Spotsize{spotsize1}.txt',header=List1 , index=None, sep=\"\\t\", mode='w')\n",
    "df2.to_csv(f'{path}\\Photon_Energy_Spotsize{spotsize2}.txt',header=List1 , index=None, sep=\"\\t\", mode='w')\n"
   ]
  },
  {
   "cell_type": "code",
   "execution_count": 82,
   "id": "28cbef16",
   "metadata": {},
   "outputs": [
    {
     "name": "stdout",
     "output_type": "stream",
     "text": [
      "      0          1\n",
      "0   5.0  31.715941\n",
      "1  10.0  29.646670\n",
      "2  15.0  20.437957\n",
      "3  20.0  13.815541\n",
      "4  25.0  11.237293\n",
      "5  30.0   7.269911\n",
      "6  35.0   6.761906\n",
      "7  40.0   4.682415\n",
      "8  45.0   3.900969\n",
      "9  50.0   3.461692\n"
     ]
    }
   ],
   "source": [
    "\n",
    "Data=np.zeros((n,r+1))\n",
    "Data[:,0]=sigma\n",
    "Data[:,1:r+1]=Pd[:,1,0:r]\n",
    "df=pd.DataFrame(Data)\n",
    "\n",
    "List=[\"SigmaT\",\"Photon Density \"]\n",
    "df.to_csv(f'{path}\\Photon_Density_Spotsize{spotsize2}.txt',header=List , index=None, sep=\"\\t\", mode='w')\n",
    "\n",
    "\n",
    "\n",
    "print(df)"
   ]
  },
  {
   "cell_type": "code",
   "execution_count": 83,
   "id": "f15cb9ec",
   "metadata": {},
   "outputs": [
    {
     "name": "stdout",
     "output_type": "stream",
     "text": [
      "         0                   1\n",
      "0   SigmaT     Photon Density \n",
      "1      5.0  31.715941013287274\n",
      "2     10.0  29.646669865623156\n",
      "3     15.0  20.437956702126378\n",
      "4     20.0  13.815540904309177\n",
      "5     25.0  11.237293386490975\n",
      "6     30.0    7.26991080460711\n",
      "7     35.0   6.761906374479018\n",
      "8     40.0   4.682415013806798\n",
      "9     45.0  3.9009691761142054\n",
      "10    50.0   3.461692309110242\n"
     ]
    }
   ],
   "source": [
    "'''\n",
    "Reading the text files\n",
    "The final array p does not contain the Header files\n",
    "\n",
    "'''\n",
    "print(pd.read_csv(f'{path}\\Photon_Density_Spotsize{spotsize2}.txt',header=None , sep=\"\\t\"))\n",
    "\n",
    "r=pd.read_csv(f'{path}\\Photon_Density_Spotsize{spotsize2}.txt',header=0 , sep=\"\\t\")\n",
    "p=pd.DataFrame.to_numpy(r)\n"
   ]
  },
  {
   "cell_type": "markdown",
   "id": "1134727d",
   "metadata": {},
   "source": [
    "\n",
    "Histograms"
   ]
  },
  {
   "cell_type": "code",
   "execution_count": 79,
   "id": "bee6a76d",
   "metadata": {},
   "outputs": [
    {
     "name": "stdout",
     "output_type": "stream",
     "text": [
      "[]\n"
     ]
    }
   ],
   "source": []
  },
  {
   "cell_type": "code",
   "execution_count": 86,
   "id": "fb26bf24",
   "metadata": {
    "scrolled": false
   },
   "outputs": [
    {
     "data": {
      "image/png": "[encoded data removed]",
      "text/plain": [
       "<Figure size 576x432 with 2 Axes>"
      ]
     },
     "metadata": {
      "needs_background": "light"
     },
     "output_type": "display_data"
    }
   ],
   "source": [
    "from itertools import chain\n",
    "plt.figure(figsize=(8,6))\n",
    "import h5py\n",
    "import yaml\n",
    "from scipy.interpolate import interp2d,RectBivariateSpline\n",
    "import numpy as np\n",
    "plt.subplot(111,aspect=0.05)\n",
    "\n",
    "temp= list(chain.from_iterable(K1))\n",
    "# \n",
    "plt.hist2d(np.real(temp)/1e9,np.imag(temp),bins=(30,10),weights=DatatempW1,rasterized=True,cmap=plt.cm.magma);\n",
    "plt.colorbar()\n",
    "plt.xlim(6,9)\n",
    "\n",
    "plt.ylabel(r'$Sigma_T$ (microns)')\n",
    "plt.xlabel(r'$k_y$ (MeV)')\n",
    "\n",
    "plt.title('Spotsize : 3 microns')\n",
    "\n",
    "plt.savefig(f'Photon_Density_Histogram_{spotsize1}_microns_Sigma_ParameterRun_w0_Constant.pdf')\n"
   ]
  },
  {
   "cell_type": "code",
   "execution_count": 87,
   "id": "48451027",
   "metadata": {},
   "outputs": [
    {
     "data": {
      "image/png": "[encoded data removed]",
      "text/plain": [
       "<Figure size 576x432 with 2 Axes>"
      ]
     },
     "metadata": {
      "needs_background": "light"
     },
     "output_type": "display_data"
    }
   ],
   "source": [
    "from itertools import chain\n",
    "plt.figure(figsize=(8,6))\n",
    "import h5py\n",
    "import yaml\n",
    "from scipy.interpolate import interp2d,RectBivariateSpline\n",
    "import numpy as np\n",
    "plt.subplot(111,aspect=0.05)\n",
    "\n",
    "temp=flatten_list = list(chain.from_iterable(K2))\n",
    "# \n",
    "plt.hist2d(np.real(temp)/1e9,np.imag(temp),bins=(30,10),weights=DatatempW2, rasterized=True,cmap=plt.cm.magma);\n",
    "plt.colorbar()\n",
    "plt.xlim(6,9)\n",
    "\n",
    "plt.ylabel(r'$Sigma_T$ (microns)')\n",
    "plt.xlabel(r'$k_y$ (MeV)')\n",
    "plt.title('Spotsize : 10 microns')\n",
    "plt.savefig(f'Photon_Density_Histogram_{spotsize2}_microns_Sigma_ParameterRun_w0_Constant.pdf')\n"
   ]
  },
  {
   "cell_type": "code",
   "execution_count": 89,
   "id": "26eac6e0",
   "metadata": {},
   "outputs": [
    {
     "name": "stdout",
     "output_type": "stream",
     "text": [
      "Python 3.8.8\n"
     ]
    }
   ],
   "source": [
    "!python --version"
   ]
  },
  {
   "cell_type": "code",
   "execution_count": 91,
   "id": "d1a57fd8",
   "metadata": {},
   "outputs": [
    {
     "name": "stderr",
     "output_type": "stream",
     "text": [
      "Traceback (most recent call last):\n",
      "  File \"C:\\Users\\Dupish\\anaconda3\\Scripts\\matplotlib-script.py\", line 10, in <module>\n",
      "    sys.exit(plotting._matplotlib())\n",
      "AttributeError: module 'pandas.plotting' has no attribute '_matplotlib'\n"
     ]
    }
   ],
   "source": [
    "!matplotlib --version"
   ]
  },
  {
   "cell_type": "code",
   "execution_count": 95,
   "id": "3205ba18",
   "metadata": {},
   "outputs": [],
   "source": [
    "plt?"
   ]
  },
  {
   "cell_type": "code",
   "execution_count": 96,
   "id": "4895593c",
   "metadata": {},
   "outputs": [
    {
     "data": {
      "text/plain": [
       "'\\\\'"
      ]
     },
     "execution_count": 96,
     "metadata": {},
     "output_type": "execute_result"
    }
   ],
   "source": [
    "os.sep"
   ]
  },
  {
   "cell_type": "code",
   "execution_count": null,
   "id": "6f0f1046",
   "metadata": {},
   "outputs": [],
   "source": []
  }
 ],
 "metadata": {
  "kernelspec": {
   "display_name": "Python 3",
   "language": "python",
   "name": "python3"
  },
  "language_info": {
   "codemirror_mode": {
    "name": "ipython",
    "version": 3
   },
   "file_extension": ".py",
   "mimetype": "text/x-python",
   "name": "python",
   "nbconvert_exporter": "python",
   "pygments_lexer": "ipython3",
   "version": "3.8.8"
  }
 },
 "nbformat": 4,
 "nbformat_minor": 5
}
